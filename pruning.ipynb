{
 "cells": [
  {
   "cell_type": "markdown",
   "id": "b714426b",
   "metadata": {},
   "source": [
    "### Author\n",
    "\n",
    "Recep Fırat Çekinel"
   ]
  },
  {
   "cell_type": "code",
   "execution_count": 1,
   "id": "0cf4a36e",
   "metadata": {},
   "outputs": [],
   "source": [
    "from cifar10_models import resnet\n",
    "import torch\n",
    "import numpy as np\n",
    "import pandas as pd\n",
    "from torch import nn\n",
    "import torch.nn.utils.prune as prune\n",
    "import torch.nn.functional as F\n",
    "import torchvision\n",
    "import torchvision.transforms as transforms\n",
    "from tqdm import tqdm\n",
    "from time import process_time, process_time_ns"
   ]
  },
  {
   "cell_type": "code",
   "execution_count": 2,
   "id": "9eea333a",
   "metadata": {},
   "outputs": [
    {
     "data": {
      "text/plain": [
       "device(type='cuda')"
      ]
     },
     "execution_count": 2,
     "metadata": {},
     "output_type": "execute_result"
    }
   ],
   "source": [
    "device = torch.device(\"cuda\" if torch.cuda.is_available() else \"cpu\")\n",
    "device"
   ]
  },
  {
   "cell_type": "code",
   "execution_count": 3,
   "id": "8b4c8ae9",
   "metadata": {},
   "outputs": [
    {
     "name": "stderr",
     "output_type": "stream",
     "text": [
      "\u001b[34m\u001b[1mwandb\u001b[0m: Currently logged in as: \u001b[33mfiratc\u001b[0m (use `wandb login --relogin` to force relogin)\n"
     ]
    },
    {
     "data": {
      "text/plain": [
       "True"
      ]
     },
     "execution_count": 3,
     "metadata": {},
     "output_type": "execute_result"
    }
   ],
   "source": [
    "import wandb\n",
    "\n",
    "wandb.login()\n",
    "#!wandb login --relogin"
   ]
  },
  {
   "cell_type": "code",
   "execution_count": 4,
   "id": "5606e76b",
   "metadata": {},
   "outputs": [
    {
     "name": "stdout",
     "output_type": "stream",
     "text": [
      "Create sweep with ID: dvsgvufx\n",
      "Sweep URL: https://wandb.ai/firatc/mmi712-term-project/sweeps/dvsgvufx\n"
     ]
    }
   ],
   "source": [
    "sweep_config = {'method': 'grid'}\n",
    "\n",
    "parameters_dict = {\n",
    "    'learning_rate': {\n",
    "        'values': [0.001, 0.01 ]\n",
    "        },\n",
    "    }\n",
    "\n",
    "sweep_config['parameters'] = parameters_dict\n",
    "\n",
    "\n",
    "sweep_id = wandb.sweep(sweep_config, project=\"mmi712-term-project\")"
   ]
  },
  {
   "cell_type": "markdown",
   "id": "6e39801a",
   "metadata": {},
   "source": [
    "# Loading the Cifar-10 Dataset"
   ]
  },
  {
   "cell_type": "code",
   "execution_count": 3,
   "id": "5aafd01a",
   "metadata": {},
   "outputs": [],
   "source": [
    "# Image preprocessing modules\n",
    "transform = transforms.Compose([\n",
    "    transforms.Pad(4),\n",
    "    transforms.RandomHorizontalFlip(),\n",
    "    transforms.RandomCrop(32),\n",
    "    transforms.ToTensor()])\n",
    "\n",
    "# CIFAR-10 dataset\n",
    "train_dataset = torchvision.datasets.CIFAR10(root='data/',\n",
    "                                             train=True, \n",
    "                                             transform=transform,\n",
    "                                             download=False)\n",
    "\n",
    "test_dataset = torchvision.datasets.CIFAR10(root='data/',\n",
    "                                            train=False, \n",
    "                                            transform=transforms.ToTensor())\n",
    "\n",
    "# Data loader\n",
    "train_loader = torch.utils.data.DataLoader(dataset=train_dataset,\n",
    "                                           batch_size=100, \n",
    "                                           shuffle=True)\n",
    "\n",
    "test_loader = torch.utils.data.DataLoader(dataset=test_dataset,\n",
    "                                          batch_size=100, \n",
    "                                          shuffle=False)"
   ]
  },
  {
   "cell_type": "markdown",
   "id": "944da301",
   "metadata": {},
   "source": [
    "# Save & Load the Model"
   ]
  },
  {
   "cell_type": "code",
   "execution_count": 4,
   "id": "4ab25de6",
   "metadata": {},
   "outputs": [],
   "source": [
    "def saveModel(model, model_name):\n",
    "    # Save the model checkpoint\n",
    "    torch.save(model, model_name)"
   ]
  },
  {
   "cell_type": "code",
   "execution_count": 5,
   "id": "8d3755f6",
   "metadata": {},
   "outputs": [],
   "source": [
    "def loadModel(model_name, dev=\"cuda\"):\n",
    "    if dev == \"cuda\" and not torch.cuda.is_available():\n",
    "        dev = \"cpu\"\n",
    "    return torch.load(model_name, map_location=torch.device(dev))"
   ]
  },
  {
   "cell_type": "markdown",
   "id": "e956383e",
   "metadata": {},
   "source": [
    "# Test the Model on Eval Dataset"
   ]
  },
  {
   "cell_type": "code",
   "execution_count": 6,
   "id": "873df1d3",
   "metadata": {},
   "outputs": [],
   "source": [
    "def testModel(model, test_loader):\n",
    "    # Test the model\n",
    "    model.eval()\n",
    "    with torch.no_grad():\n",
    "        correct = 0\n",
    "        total = 0\n",
    "        for images, labels in test_loader:\n",
    "            images = images.to(device)\n",
    "            labels = labels.to(device)\n",
    "            outputs = model(images)\n",
    "            _, predicted = torch.max(outputs.data, 1)\n",
    "            total += labels.size(0)\n",
    "            correct += (predicted == labels).sum().item()\n",
    "\n",
    "        print('Accuracy of the model on the test images: {} %'.format(100 * correct / total))"
   ]
  },
  {
   "cell_type": "code",
   "execution_count": 7,
   "id": "0cc8c3cb",
   "metadata": {},
   "outputs": [],
   "source": [
    "def getInference(instance, model, repetitions=300):\n",
    "    \n",
    "    #starter, ender = torch.cuda.Event(enable_timing=True), torch.cuda.Event(enable_timing=True)\n",
    "    timings=np.zeros((repetitions,1))\n",
    "    #GPU-WARM-UP\n",
    "    # MEASURE PERFORMANCE\n",
    "    model.eval()\n",
    "    with torch.no_grad():\n",
    "        instance = instance.to(\"cpu\")\n",
    "        for rep in range(repetitions):\n",
    "            #starter.record()\n",
    "            t_start = process_time_ns() \n",
    "            _ = model(instance)\n",
    "            t_stop = process_time_ns() \n",
    "            #ender.record()\n",
    "            # WAIT FOR GPU SYNC\n",
    "            #torch.cuda.synchronize()\n",
    "            #curr_time = starter.elapsed_time(ender)\n",
    "            curr_time = (t_stop - t_start) / 10 **9\n",
    "            timings[rep] = curr_time\n",
    "    mean_syn = np.sum(timings) / repetitions\n",
    "    std_syn = np.std(timings)\n",
    "    \n",
    "    return (mean_syn, std_syn)"
   ]
  },
  {
   "cell_type": "code",
   "execution_count": 8,
   "id": "e9b54767",
   "metadata": {},
   "outputs": [
    {
     "name": "stdout",
     "output_type": "stream",
     "text": [
      "tensor([[[[0.6196, 0.6235, 0.6471,  ..., 0.5373, 0.4941, 0.4549],\n",
      "          [0.5961, 0.5922, 0.6235,  ..., 0.5333, 0.4902, 0.4667],\n",
      "          [0.5922, 0.5922, 0.6196,  ..., 0.5451, 0.5098, 0.4706],\n",
      "          ...,\n",
      "          [0.2667, 0.1647, 0.1216,  ..., 0.1490, 0.0510, 0.1569],\n",
      "          [0.2392, 0.1922, 0.1373,  ..., 0.1020, 0.1137, 0.0784],\n",
      "          [0.2118, 0.2196, 0.1765,  ..., 0.0941, 0.1333, 0.0824]],\n",
      "\n",
      "         [[0.4392, 0.4353, 0.4549,  ..., 0.3725, 0.3569, 0.3333],\n",
      "          [0.4392, 0.4314, 0.4471,  ..., 0.3725, 0.3569, 0.3451],\n",
      "          [0.4314, 0.4275, 0.4353,  ..., 0.3843, 0.3725, 0.3490],\n",
      "          ...,\n",
      "          [0.4863, 0.3922, 0.3451,  ..., 0.3804, 0.2510, 0.3333],\n",
      "          [0.4549, 0.4000, 0.3333,  ..., 0.3216, 0.3216, 0.2510],\n",
      "          [0.4196, 0.4118, 0.3490,  ..., 0.3020, 0.3294, 0.2627]],\n",
      "\n",
      "         [[0.1922, 0.1843, 0.2000,  ..., 0.1412, 0.1412, 0.1294],\n",
      "          [0.2000, 0.1569, 0.1765,  ..., 0.1216, 0.1255, 0.1333],\n",
      "          [0.1843, 0.1294, 0.1412,  ..., 0.1333, 0.1333, 0.1294],\n",
      "          ...,\n",
      "          [0.6941, 0.5804, 0.5373,  ..., 0.5725, 0.4235, 0.4980],\n",
      "          [0.6588, 0.5804, 0.5176,  ..., 0.5098, 0.4941, 0.4196],\n",
      "          [0.6275, 0.5843, 0.5176,  ..., 0.4863, 0.5059, 0.4314]]]]) tensor([3])\n"
     ]
    }
   ],
   "source": [
    "# take a sample data instance to measure the inference\n",
    "test_loader2 = torch.utils.data.DataLoader(dataset=test_dataset,\n",
    "                                          batch_size=1, \n",
    "                                          shuffle=False)\n",
    "for sample_image, sample_label in test_loader2:  \n",
    "    print(sample_image, sample_label)\n",
    "    break"
   ]
  },
  {
   "cell_type": "code",
   "execution_count": 10,
   "id": "67c2356f",
   "metadata": {},
   "outputs": [
    {
     "name": "stdout",
     "output_type": "stream",
     "text": [
      "Accuracy of the model on the test images: 90.43 %\n"
     ]
    },
    {
     "data": {
      "text/plain": [
       "(0.04692480155, 0.006379768579961289)"
      ]
     },
     "execution_count": 10,
     "metadata": {},
     "output_type": "execute_result"
    }
   ],
   "source": [
    "model = loadModel(\"resnet_lr0.01.pth\")\n",
    "testModel(model, test_loader)\n",
    "model = model.to(\"cpu\")\n",
    "getInference(sample_image, model, 100)"
   ]
  },
  {
   "cell_type": "markdown",
   "id": "21b5eb9a",
   "metadata": {},
   "source": [
    "# Training a Resnet Model"
   ]
  },
  {
   "cell_type": "code",
   "execution_count": 9,
   "id": "bd3ee2ae",
   "metadata": {},
   "outputs": [],
   "source": [
    "def trainModel(model, learning_rate, train_loader):\n",
    "    # Hyper-parameters\n",
    "    num_epochs = 80\n",
    "    #learning_rate = 0.001\n",
    "    \n",
    "    # Loss and optimizer\n",
    "    criterion = nn.CrossEntropyLoss()\n",
    "    optimizer = torch.optim.Adam(model.parameters(), lr=learning_rate)\n",
    "\n",
    "    # For updating learning rate\n",
    "    def update_lr(optimizer, lr):    \n",
    "        for param_group in optimizer.param_groups:\n",
    "            param_group['lr'] = lr\n",
    "\n",
    "    # Train the model\n",
    "    total_step = len(train_loader)\n",
    "    curr_lr = learning_rate\n",
    "    for epoch in tqdm(range(num_epochs)):\n",
    "        for i, (images, labels) in enumerate(train_loader):\n",
    "            images = images.to(device)\n",
    "            labels = labels.to(device)\n",
    "\n",
    "            # Forward pass\n",
    "            outputs = model(images)\n",
    "            loss = criterion(outputs, labels)\n",
    "\n",
    "            # Backward and optimize\n",
    "            optimizer.zero_grad()\n",
    "            loss.backward()\n",
    "            optimizer.step()\n",
    "\n",
    "            if (i+1) % 100 == 0:\n",
    "                print (\"Epoch [{}/{}], Step [{}/{}] Loss: {:.4f}\".format(epoch+1, num_epochs, i+1, total_step, loss.item()))\n",
    "                wandb.log({\"Epoch\": epoch+1, \"Loss\": loss.item()})\n",
    "\n",
    "        # Decay learning rate\n",
    "        if (epoch+1) % 20 == 0:\n",
    "            curr_lr /= 3\n",
    "            update_lr(optimizer, curr_lr)\n",
    "    \n",
    "    # Save the model checkpoint\n",
    "    #torch.save(model, 'resnet_lr'+str(learning_rate)+'.pth')\n",
    "    saveModel(model, 'resnet_lr'+str(learning_rate)+'.pth')\n",
    "    testModel(model, test_loader)"
   ]
  },
  {
   "cell_type": "code",
   "execution_count": 10,
   "id": "3fd4229c",
   "metadata": {},
   "outputs": [],
   "source": [
    "def init_model(config=None):\n",
    "    # Initialize a new wandb run\n",
    "    with wandb.init(config=config):\n",
    "        # If called by wandb.agent, as below,\n",
    "        # this config will be set by Sweep Controller\n",
    "        config = wandb.config\n",
    "\n",
    "        model = resnet.resnet18().to(device)\n",
    "        \n",
    "        trainModel(model, config.learning_rate, train_loader)"
   ]
  },
  {
   "cell_type": "code",
   "execution_count": 11,
   "id": "494fa50d",
   "metadata": {},
   "outputs": [
    {
     "name": "stderr",
     "output_type": "stream",
     "text": [
      "\u001b[34m\u001b[1mwandb\u001b[0m: Agent Starting Run: ef7yabdt with config:\n",
      "\u001b[34m\u001b[1mwandb\u001b[0m: \tlearning_rate: 0.001\n",
      "\u001b[34m\u001b[1mwandb\u001b[0m: wandb version 0.12.9 is available!  To upgrade, please run:\n",
      "\u001b[34m\u001b[1mwandb\u001b[0m:  $ pip install wandb --upgrade\n"
     ]
    },
    {
     "data": {
      "text/html": [
       "\n",
       "                Tracking run with wandb version 0.10.21<br/>\n",
       "                Syncing run <strong style=\"color:#cdcd00\">pious-sweep-1</strong> to <a href=\"https://wandb.ai\" target=\"_blank\">Weights & Biases</a> <a href=\"https://docs.wandb.com/integrations/jupyter.html\" target=\"_blank\">(Documentation)</a>.<br/>\n",
       "                Project page: <a href=\"https://wandb.ai/firatc/mmi712-term-project\" target=\"_blank\">https://wandb.ai/firatc/mmi712-term-project</a><br/>\n",
       "                Sweep page: <a href=\"https://wandb.ai/firatc/mmi712-term-project/sweeps/dvsgvufx\" target=\"_blank\">https://wandb.ai/firatc/mmi712-term-project/sweeps/dvsgvufx</a><br/>\n",
       "Run page: <a href=\"https://wandb.ai/firatc/mmi712-term-project/runs/ef7yabdt\" target=\"_blank\">https://wandb.ai/firatc/mmi712-term-project/runs/ef7yabdt</a><br/>\n",
       "                Run data is saved locally in <code>/home/teghub/Documents/PyTorch_CIFAR10-master/wandb/run-20220113_141706-ef7yabdt</code><br/><br/>\n",
       "            "
      ],
      "text/plain": [
       "<IPython.core.display.HTML object>"
      ]
     },
     "metadata": {},
     "output_type": "display_data"
    },
    {
     "name": "stderr",
     "output_type": "stream",
     "text": [
      "\r",
      "  0%|          | 0/80 [00:00<?, ?it/s]"
     ]
    },
    {
     "name": "stdout",
     "output_type": "stream",
     "text": [
      "Epoch [1/80], Step [100/500] Loss: 1.6570\n",
      "Epoch [1/80], Step [200/500] Loss: 1.4522\n",
      "Epoch [1/80], Step [300/500] Loss: 1.2114\n",
      "Epoch [1/80], Step [400/500] Loss: 1.1740\n"
     ]
    },
    {
     "name": "stderr",
     "output_type": "stream",
     "text": [
      "\r",
      "  1%|▏         | 1/80 [00:18<24:03, 18.27s/it]"
     ]
    },
    {
     "name": "stdout",
     "output_type": "stream",
     "text": [
      "Epoch [1/80], Step [500/500] Loss: 1.1244\n",
      "Epoch [2/80], Step [100/500] Loss: 0.9098\n",
      "Epoch [2/80], Step [200/500] Loss: 0.8929\n",
      "Epoch [2/80], Step [300/500] Loss: 1.0156\n",
      "Epoch [2/80], Step [400/500] Loss: 0.9678\n"
     ]
    },
    {
     "name": "stderr",
     "output_type": "stream",
     "text": [
      "\r",
      "  2%|▎         | 2/80 [00:36<23:21, 17.97s/it]"
     ]
    },
    {
     "name": "stdout",
     "output_type": "stream",
     "text": [
      "Epoch [2/80], Step [500/500] Loss: 0.7824\n",
      "Epoch [3/80], Step [100/500] Loss: 0.7793\n",
      "Epoch [3/80], Step [200/500] Loss: 0.7750\n",
      "Epoch [3/80], Step [300/500] Loss: 0.7202\n",
      "Epoch [3/80], Step [400/500] Loss: 0.5749\n"
     ]
    },
    {
     "name": "stderr",
     "output_type": "stream",
     "text": [
      "\r",
      "  4%|▍         | 3/80 [00:53<22:51, 17.81s/it]"
     ]
    },
    {
     "name": "stdout",
     "output_type": "stream",
     "text": [
      "Epoch [3/80], Step [500/500] Loss: 0.6604\n",
      "Epoch [4/80], Step [100/500] Loss: 0.6899\n",
      "Epoch [4/80], Step [200/500] Loss: 0.6883\n",
      "Epoch [4/80], Step [300/500] Loss: 0.7612\n",
      "Epoch [4/80], Step [400/500] Loss: 0.6042\n"
     ]
    },
    {
     "name": "stderr",
     "output_type": "stream",
     "text": [
      "\r",
      "  5%|▌         | 4/80 [01:11<22:26, 17.72s/it]"
     ]
    },
    {
     "name": "stdout",
     "output_type": "stream",
     "text": [
      "Epoch [4/80], Step [500/500] Loss: 0.6170\n",
      "Epoch [5/80], Step [100/500] Loss: 0.6246\n",
      "Epoch [5/80], Step [200/500] Loss: 0.5962\n",
      "Epoch [5/80], Step [300/500] Loss: 0.6270\n",
      "Epoch [5/80], Step [400/500] Loss: 0.6484\n"
     ]
    },
    {
     "name": "stderr",
     "output_type": "stream",
     "text": [
      "\r",
      "  6%|▋         | 5/80 [01:28<22:07, 17.70s/it]"
     ]
    },
    {
     "name": "stdout",
     "output_type": "stream",
     "text": [
      "Epoch [5/80], Step [500/500] Loss: 0.7490\n",
      "Epoch [6/80], Step [100/500] Loss: 0.4940\n",
      "Epoch [6/80], Step [200/500] Loss: 0.5683\n",
      "Epoch [6/80], Step [300/500] Loss: 0.5762\n",
      "Epoch [6/80], Step [400/500] Loss: 0.5569\n"
     ]
    },
    {
     "name": "stderr",
     "output_type": "stream",
     "text": [
      "\r",
      "  8%|▊         | 6/80 [01:46<21:48, 17.69s/it]"
     ]
    },
    {
     "name": "stdout",
     "output_type": "stream",
     "text": [
      "Epoch [6/80], Step [500/500] Loss: 0.6050\n",
      "Epoch [7/80], Step [100/500] Loss: 0.4597\n",
      "Epoch [7/80], Step [200/500] Loss: 0.5345\n",
      "Epoch [7/80], Step [300/500] Loss: 0.6020\n",
      "Epoch [7/80], Step [400/500] Loss: 0.3917\n"
     ]
    },
    {
     "name": "stderr",
     "output_type": "stream",
     "text": [
      "\r",
      "  9%|▉         | 7/80 [02:04<21:31, 17.69s/it]"
     ]
    },
    {
     "name": "stdout",
     "output_type": "stream",
     "text": [
      "Epoch [7/80], Step [500/500] Loss: 0.3860\n",
      "Epoch [8/80], Step [100/500] Loss: 0.3567\n",
      "Epoch [8/80], Step [200/500] Loss: 0.4515\n",
      "Epoch [8/80], Step [300/500] Loss: 0.7240\n",
      "Epoch [8/80], Step [400/500] Loss: 0.4638\n"
     ]
    },
    {
     "name": "stderr",
     "output_type": "stream",
     "text": [
      "\r",
      " 10%|█         | 8/80 [02:21<21:12, 17.68s/it]"
     ]
    },
    {
     "name": "stdout",
     "output_type": "stream",
     "text": [
      "Epoch [8/80], Step [500/500] Loss: 0.5578\n",
      "Epoch [9/80], Step [100/500] Loss: 0.3886\n",
      "Epoch [9/80], Step [200/500] Loss: 0.5099\n",
      "Epoch [9/80], Step [300/500] Loss: 0.3563\n",
      "Epoch [9/80], Step [400/500] Loss: 0.4894\n"
     ]
    },
    {
     "name": "stderr",
     "output_type": "stream",
     "text": [
      "\r",
      " 11%|█▏        | 9/80 [02:39<20:56, 17.69s/it]"
     ]
    },
    {
     "name": "stdout",
     "output_type": "stream",
     "text": [
      "Epoch [9/80], Step [500/500] Loss: 0.5155\n",
      "Epoch [10/80], Step [100/500] Loss: 0.4485\n",
      "Epoch [10/80], Step [200/500] Loss: 0.4386\n",
      "Epoch [10/80], Step [300/500] Loss: 0.4920\n",
      "Epoch [10/80], Step [400/500] Loss: 0.3521\n"
     ]
    },
    {
     "name": "stderr",
     "output_type": "stream",
     "text": [
      "\r",
      " 12%|█▎        | 10/80 [02:57<20:41, 17.73s/it]"
     ]
    },
    {
     "name": "stdout",
     "output_type": "stream",
     "text": [
      "Epoch [10/80], Step [500/500] Loss: 0.3886\n",
      "Epoch [11/80], Step [100/500] Loss: 0.2135\n",
      "Epoch [11/80], Step [200/500] Loss: 0.3057\n",
      "Epoch [11/80], Step [300/500] Loss: 0.2454\n",
      "Epoch [11/80], Step [400/500] Loss: 0.5966\n"
     ]
    },
    {
     "name": "stderr",
     "output_type": "stream",
     "text": [
      "\r",
      " 14%|█▍        | 11/80 [03:15<20:23, 17.73s/it]"
     ]
    },
    {
     "name": "stdout",
     "output_type": "stream",
     "text": [
      "Epoch [11/80], Step [500/500] Loss: 0.4182\n",
      "Epoch [12/80], Step [100/500] Loss: 0.4511\n",
      "Epoch [12/80], Step [200/500] Loss: 0.4959\n",
      "Epoch [12/80], Step [300/500] Loss: 0.2540\n",
      "Epoch [12/80], Step [400/500] Loss: 0.4591\n"
     ]
    },
    {
     "name": "stderr",
     "output_type": "stream",
     "text": [
      "\r",
      " 15%|█▌        | 12/80 [03:32<20:05, 17.73s/it]"
     ]
    },
    {
     "name": "stdout",
     "output_type": "stream",
     "text": [
      "Epoch [12/80], Step [500/500] Loss: 0.4106\n",
      "Epoch [13/80], Step [100/500] Loss: 0.3010\n",
      "Epoch [13/80], Step [200/500] Loss: 0.2837\n",
      "Epoch [13/80], Step [300/500] Loss: 0.2607\n",
      "Epoch [13/80], Step [400/500] Loss: 0.2987\n"
     ]
    },
    {
     "name": "stderr",
     "output_type": "stream",
     "text": [
      "\r",
      " 16%|█▋        | 13/80 [03:50<19:49, 17.76s/it]"
     ]
    },
    {
     "name": "stdout",
     "output_type": "stream",
     "text": [
      "Epoch [13/80], Step [500/500] Loss: 0.5259\n",
      "Epoch [14/80], Step [100/500] Loss: 0.3289\n",
      "Epoch [14/80], Step [200/500] Loss: 0.2761\n",
      "Epoch [14/80], Step [300/500] Loss: 0.2965\n",
      "Epoch [14/80], Step [400/500] Loss: 0.2231\n"
     ]
    },
    {
     "name": "stderr",
     "output_type": "stream",
     "text": [
      "\r",
      " 18%|█▊        | 14/80 [04:08<19:33, 17.78s/it]"
     ]
    },
    {
     "name": "stdout",
     "output_type": "stream",
     "text": [
      "Epoch [14/80], Step [500/500] Loss: 0.4156\n",
      "Epoch [15/80], Step [100/500] Loss: 0.3295\n",
      "Epoch [15/80], Step [200/500] Loss: 0.3492\n",
      "Epoch [15/80], Step [300/500] Loss: 0.2373\n",
      "Epoch [15/80], Step [400/500] Loss: 0.3037\n"
     ]
    },
    {
     "name": "stderr",
     "output_type": "stream",
     "text": [
      "\r",
      " 19%|█▉        | 15/80 [04:26<19:17, 17.81s/it]"
     ]
    },
    {
     "name": "stdout",
     "output_type": "stream",
     "text": [
      "Epoch [15/80], Step [500/500] Loss: 0.2703\n",
      "Epoch [16/80], Step [100/500] Loss: 0.2526\n",
      "Epoch [16/80], Step [200/500] Loss: 0.2252\n",
      "Epoch [16/80], Step [300/500] Loss: 0.4011\n",
      "Epoch [16/80], Step [400/500] Loss: 0.4907\n"
     ]
    },
    {
     "name": "stderr",
     "output_type": "stream",
     "text": [
      "\r",
      " 20%|██        | 16/80 [04:44<19:01, 17.84s/it]"
     ]
    },
    {
     "name": "stdout",
     "output_type": "stream",
     "text": [
      "Epoch [16/80], Step [500/500] Loss: 0.2344\n",
      "Epoch [17/80], Step [100/500] Loss: 0.2382\n",
      "Epoch [17/80], Step [200/500] Loss: 0.3255\n",
      "Epoch [17/80], Step [300/500] Loss: 0.2316\n",
      "Epoch [17/80], Step [400/500] Loss: 0.2718\n"
     ]
    },
    {
     "name": "stderr",
     "output_type": "stream",
     "text": [
      "\r",
      " 21%|██▏       | 17/80 [05:02<18:44, 17.84s/it]"
     ]
    },
    {
     "name": "stdout",
     "output_type": "stream",
     "text": [
      "Epoch [17/80], Step [500/500] Loss: 0.2689\n",
      "Epoch [18/80], Step [100/500] Loss: 0.2584\n",
      "Epoch [18/80], Step [200/500] Loss: 0.2509\n",
      "Epoch [18/80], Step [300/500] Loss: 0.3057\n",
      "Epoch [18/80], Step [400/500] Loss: 0.2146\n"
     ]
    },
    {
     "name": "stderr",
     "output_type": "stream",
     "text": [
      "\r",
      " 22%|██▎       | 18/80 [05:20<18:26, 17.85s/it]"
     ]
    },
    {
     "name": "stdout",
     "output_type": "stream",
     "text": [
      "Epoch [18/80], Step [500/500] Loss: 0.1190\n",
      "Epoch [19/80], Step [100/500] Loss: 0.3675\n",
      "Epoch [19/80], Step [200/500] Loss: 0.1619\n",
      "Epoch [19/80], Step [300/500] Loss: 0.3158\n",
      "Epoch [19/80], Step [400/500] Loss: 0.2542\n"
     ]
    },
    {
     "name": "stderr",
     "output_type": "stream",
     "text": [
      "\r",
      " 24%|██▍       | 19/80 [05:37<18:09, 17.85s/it]"
     ]
    },
    {
     "name": "stdout",
     "output_type": "stream",
     "text": [
      "Epoch [19/80], Step [500/500] Loss: 0.3189\n",
      "Epoch [20/80], Step [100/500] Loss: 0.1674\n",
      "Epoch [20/80], Step [200/500] Loss: 0.3432\n",
      "Epoch [20/80], Step [300/500] Loss: 0.2291\n",
      "Epoch [20/80], Step [400/500] Loss: 0.2478\n"
     ]
    },
    {
     "name": "stderr",
     "output_type": "stream",
     "text": [
      "\r",
      " 25%|██▌       | 20/80 [05:55<17:51, 17.86s/it]"
     ]
    },
    {
     "name": "stdout",
     "output_type": "stream",
     "text": [
      "Epoch [20/80], Step [500/500] Loss: 0.2738\n",
      "Epoch [21/80], Step [100/500] Loss: 0.1556\n",
      "Epoch [21/80], Step [200/500] Loss: 0.1749\n",
      "Epoch [21/80], Step [300/500] Loss: 0.1986\n",
      "Epoch [21/80], Step [400/500] Loss: 0.1930\n"
     ]
    },
    {
     "name": "stderr",
     "output_type": "stream",
     "text": [
      "\r",
      " 26%|██▋       | 21/80 [06:13<17:34, 17.87s/it]"
     ]
    },
    {
     "name": "stdout",
     "output_type": "stream",
     "text": [
      "Epoch [21/80], Step [500/500] Loss: 0.2226\n",
      "Epoch [22/80], Step [100/500] Loss: 0.0861\n",
      "Epoch [22/80], Step [200/500] Loss: 0.1235\n",
      "Epoch [22/80], Step [300/500] Loss: 0.2071\n",
      "Epoch [22/80], Step [400/500] Loss: 0.2095\n"
     ]
    },
    {
     "name": "stderr",
     "output_type": "stream",
     "text": [
      "\r",
      " 28%|██▊       | 22/80 [06:31<17:16, 17.87s/it]"
     ]
    },
    {
     "name": "stdout",
     "output_type": "stream",
     "text": [
      "Epoch [22/80], Step [500/500] Loss: 0.1109\n",
      "Epoch [23/80], Step [100/500] Loss: 0.0912\n",
      "Epoch [23/80], Step [200/500] Loss: 0.1451\n",
      "Epoch [23/80], Step [300/500] Loss: 0.1574\n",
      "Epoch [23/80], Step [400/500] Loss: 0.1630\n"
     ]
    },
    {
     "name": "stderr",
     "output_type": "stream",
     "text": [
      "\r",
      " 29%|██▉       | 23/80 [06:49<16:59, 17.88s/it]"
     ]
    },
    {
     "name": "stdout",
     "output_type": "stream",
     "text": [
      "Epoch [23/80], Step [500/500] Loss: 0.1737\n",
      "Epoch [24/80], Step [100/500] Loss: 0.0804\n",
      "Epoch [24/80], Step [200/500] Loss: 0.1233\n",
      "Epoch [24/80], Step [300/500] Loss: 0.1351\n",
      "Epoch [24/80], Step [400/500] Loss: 0.1822\n"
     ]
    },
    {
     "name": "stderr",
     "output_type": "stream",
     "text": [
      "\r",
      " 30%|███       | 24/80 [07:07<16:41, 17.88s/it]"
     ]
    },
    {
     "name": "stdout",
     "output_type": "stream",
     "text": [
      "Epoch [24/80], Step [500/500] Loss: 0.0722\n",
      "Epoch [25/80], Step [100/500] Loss: 0.0454\n",
      "Epoch [25/80], Step [200/500] Loss: 0.1512\n",
      "Epoch [25/80], Step [300/500] Loss: 0.0592\n",
      "Epoch [25/80], Step [400/500] Loss: 0.0955\n"
     ]
    },
    {
     "name": "stderr",
     "output_type": "stream",
     "text": [
      "\r",
      " 31%|███▏      | 25/80 [07:25<16:23, 17.88s/it]"
     ]
    },
    {
     "name": "stdout",
     "output_type": "stream",
     "text": [
      "Epoch [25/80], Step [500/500] Loss: 0.0755\n",
      "Epoch [26/80], Step [100/500] Loss: 0.2146\n",
      "Epoch [26/80], Step [200/500] Loss: 0.1593\n",
      "Epoch [26/80], Step [300/500] Loss: 0.1650\n",
      "Epoch [26/80], Step [400/500] Loss: 0.0570\n"
     ]
    },
    {
     "name": "stderr",
     "output_type": "stream",
     "text": [
      "\r",
      " 32%|███▎      | 26/80 [07:43<16:05, 17.89s/it]"
     ]
    },
    {
     "name": "stdout",
     "output_type": "stream",
     "text": [
      "Epoch [26/80], Step [500/500] Loss: 0.0647\n",
      "Epoch [27/80], Step [100/500] Loss: 0.0287\n",
      "Epoch [27/80], Step [200/500] Loss: 0.1838\n",
      "Epoch [27/80], Step [300/500] Loss: 0.0826\n",
      "Epoch [27/80], Step [400/500] Loss: 0.1084\n"
     ]
    },
    {
     "name": "stderr",
     "output_type": "stream",
     "text": [
      "\r",
      " 34%|███▍      | 27/80 [08:00<15:47, 17.88s/it]"
     ]
    },
    {
     "name": "stdout",
     "output_type": "stream",
     "text": [
      "Epoch [27/80], Step [500/500] Loss: 0.1262\n",
      "Epoch [28/80], Step [100/500] Loss: 0.0512\n",
      "Epoch [28/80], Step [200/500] Loss: 0.1077\n",
      "Epoch [28/80], Step [300/500] Loss: 0.1438\n",
      "Epoch [28/80], Step [400/500] Loss: 0.1012\n"
     ]
    },
    {
     "name": "stderr",
     "output_type": "stream",
     "text": [
      "\r",
      " 35%|███▌      | 28/80 [08:18<15:29, 17.88s/it]"
     ]
    },
    {
     "name": "stdout",
     "output_type": "stream",
     "text": [
      "Epoch [28/80], Step [500/500] Loss: 0.1142\n",
      "Epoch [29/80], Step [100/500] Loss: 0.0664\n",
      "Epoch [29/80], Step [200/500] Loss: 0.1017\n",
      "Epoch [29/80], Step [300/500] Loss: 0.1359\n",
      "Epoch [29/80], Step [400/500] Loss: 0.0752\n"
     ]
    },
    {
     "name": "stderr",
     "output_type": "stream",
     "text": [
      "\r",
      " 36%|███▋      | 29/80 [08:36<15:11, 17.87s/it]"
     ]
    },
    {
     "name": "stdout",
     "output_type": "stream",
     "text": [
      "Epoch [29/80], Step [500/500] Loss: 0.0253\n",
      "Epoch [30/80], Step [100/500] Loss: 0.1527\n",
      "Epoch [30/80], Step [200/500] Loss: 0.0630\n",
      "Epoch [30/80], Step [300/500] Loss: 0.0936\n",
      "Epoch [30/80], Step [400/500] Loss: 0.1549\n"
     ]
    },
    {
     "name": "stderr",
     "output_type": "stream",
     "text": [
      "\r",
      " 38%|███▊      | 30/80 [08:54<14:53, 17.87s/it]"
     ]
    },
    {
     "name": "stdout",
     "output_type": "stream",
     "text": [
      "Epoch [30/80], Step [500/500] Loss: 0.0844\n",
      "Epoch [31/80], Step [100/500] Loss: 0.1563\n",
      "Epoch [31/80], Step [200/500] Loss: 0.0887\n",
      "Epoch [31/80], Step [300/500] Loss: 0.1148\n",
      "Epoch [31/80], Step [400/500] Loss: 0.0577\n"
     ]
    },
    {
     "name": "stderr",
     "output_type": "stream",
     "text": [
      "\r",
      " 39%|███▉      | 31/80 [09:12<14:36, 17.88s/it]"
     ]
    },
    {
     "name": "stdout",
     "output_type": "stream",
     "text": [
      "Epoch [31/80], Step [500/500] Loss: 0.0507\n",
      "Epoch [32/80], Step [100/500] Loss: 0.0625\n",
      "Epoch [32/80], Step [200/500] Loss: 0.1187\n",
      "Epoch [32/80], Step [300/500] Loss: 0.1641\n",
      "Epoch [32/80], Step [400/500] Loss: 0.1093\n"
     ]
    },
    {
     "name": "stderr",
     "output_type": "stream",
     "text": [
      "\r",
      " 40%|████      | 32/80 [09:30<14:18, 17.88s/it]"
     ]
    },
    {
     "name": "stdout",
     "output_type": "stream",
     "text": [
      "Epoch [32/80], Step [500/500] Loss: 0.2569\n",
      "Epoch [33/80], Step [100/500] Loss: 0.0692\n",
      "Epoch [33/80], Step [200/500] Loss: 0.0673\n",
      "Epoch [33/80], Step [300/500] Loss: 0.0350\n",
      "Epoch [33/80], Step [400/500] Loss: 0.0816\n"
     ]
    },
    {
     "name": "stderr",
     "output_type": "stream",
     "text": [
      "\r",
      " 41%|████▏     | 33/80 [09:48<13:59, 17.87s/it]"
     ]
    },
    {
     "name": "stdout",
     "output_type": "stream",
     "text": [
      "Epoch [33/80], Step [500/500] Loss: 0.0292\n",
      "Epoch [34/80], Step [100/500] Loss: 0.0776\n",
      "Epoch [34/80], Step [200/500] Loss: 0.1095\n",
      "Epoch [34/80], Step [300/500] Loss: 0.0567\n",
      "Epoch [34/80], Step [400/500] Loss: 0.0443\n"
     ]
    },
    {
     "name": "stderr",
     "output_type": "stream",
     "text": [
      "\r",
      " 42%|████▎     | 34/80 [10:06<13:41, 17.86s/it]"
     ]
    },
    {
     "name": "stdout",
     "output_type": "stream",
     "text": [
      "Epoch [34/80], Step [500/500] Loss: 0.1120\n",
      "Epoch [35/80], Step [100/500] Loss: 0.0808\n",
      "Epoch [35/80], Step [200/500] Loss: 0.0572\n",
      "Epoch [35/80], Step [300/500] Loss: 0.2111\n",
      "Epoch [35/80], Step [400/500] Loss: 0.0206\n"
     ]
    },
    {
     "name": "stderr",
     "output_type": "stream",
     "text": [
      "\r",
      " 44%|████▍     | 35/80 [10:23<13:24, 17.87s/it]"
     ]
    },
    {
     "name": "stdout",
     "output_type": "stream",
     "text": [
      "Epoch [35/80], Step [500/500] Loss: 0.1158\n",
      "Epoch [36/80], Step [100/500] Loss: 0.0458\n",
      "Epoch [36/80], Step [200/500] Loss: 0.0535\n",
      "Epoch [36/80], Step [300/500] Loss: 0.1710\n",
      "Epoch [36/80], Step [400/500] Loss: 0.0280\n"
     ]
    },
    {
     "name": "stderr",
     "output_type": "stream",
     "text": [
      "\r",
      " 45%|████▌     | 36/80 [10:41<13:06, 17.88s/it]"
     ]
    },
    {
     "name": "stdout",
     "output_type": "stream",
     "text": [
      "Epoch [36/80], Step [500/500] Loss: 0.0519\n",
      "Epoch [37/80], Step [100/500] Loss: 0.0157\n",
      "Epoch [37/80], Step [200/500] Loss: 0.0564\n",
      "Epoch [37/80], Step [300/500] Loss: 0.0368\n",
      "Epoch [37/80], Step [400/500] Loss: 0.0719\n"
     ]
    },
    {
     "name": "stderr",
     "output_type": "stream",
     "text": [
      "\r",
      " 46%|████▋     | 37/80 [10:59<12:48, 17.88s/it]"
     ]
    },
    {
     "name": "stdout",
     "output_type": "stream",
     "text": [
      "Epoch [37/80], Step [500/500] Loss: 0.0545\n",
      "Epoch [38/80], Step [100/500] Loss: 0.0142\n",
      "Epoch [38/80], Step [200/500] Loss: 0.1143\n",
      "Epoch [38/80], Step [300/500] Loss: 0.0536\n",
      "Epoch [38/80], Step [400/500] Loss: 0.0683\n"
     ]
    },
    {
     "name": "stderr",
     "output_type": "stream",
     "text": [
      "\r",
      " 48%|████▊     | 38/80 [11:17<12:30, 17.88s/it]"
     ]
    },
    {
     "name": "stdout",
     "output_type": "stream",
     "text": [
      "Epoch [38/80], Step [500/500] Loss: 0.0559\n",
      "Epoch [39/80], Step [100/500] Loss: 0.0767\n",
      "Epoch [39/80], Step [200/500] Loss: 0.0311\n",
      "Epoch [39/80], Step [300/500] Loss: 0.0996\n",
      "Epoch [39/80], Step [400/500] Loss: 0.1269\n"
     ]
    },
    {
     "name": "stderr",
     "output_type": "stream",
     "text": [
      "\r",
      " 49%|████▉     | 39/80 [11:35<12:12, 17.87s/it]"
     ]
    },
    {
     "name": "stdout",
     "output_type": "stream",
     "text": [
      "Epoch [39/80], Step [500/500] Loss: 0.0347\n",
      "Epoch [40/80], Step [100/500] Loss: 0.0660\n",
      "Epoch [40/80], Step [200/500] Loss: 0.0319\n",
      "Epoch [40/80], Step [300/500] Loss: 0.0451\n",
      "Epoch [40/80], Step [400/500] Loss: 0.0590\n"
     ]
    },
    {
     "name": "stderr",
     "output_type": "stream",
     "text": [
      "\r",
      " 50%|█████     | 40/80 [11:53<11:54, 17.87s/it]"
     ]
    },
    {
     "name": "stdout",
     "output_type": "stream",
     "text": [
      "Epoch [40/80], Step [500/500] Loss: 0.0614\n",
      "Epoch [41/80], Step [100/500] Loss: 0.0216\n",
      "Epoch [41/80], Step [200/500] Loss: 0.0534\n",
      "Epoch [41/80], Step [300/500] Loss: 0.0195\n",
      "Epoch [41/80], Step [400/500] Loss: 0.0321\n"
     ]
    },
    {
     "name": "stderr",
     "output_type": "stream",
     "text": [
      "\r",
      " 51%|█████▏    | 41/80 [12:11<11:36, 17.87s/it]"
     ]
    },
    {
     "name": "stdout",
     "output_type": "stream",
     "text": [
      "Epoch [41/80], Step [500/500] Loss: 0.0791\n",
      "Epoch [42/80], Step [100/500] Loss: 0.0394\n",
      "Epoch [42/80], Step [200/500] Loss: 0.0139\n",
      "Epoch [42/80], Step [300/500] Loss: 0.0693\n",
      "Epoch [42/80], Step [400/500] Loss: 0.0093\n"
     ]
    },
    {
     "name": "stderr",
     "output_type": "stream",
     "text": [
      "\r",
      " 52%|█████▎    | 42/80 [12:29<11:19, 17.88s/it]"
     ]
    },
    {
     "name": "stdout",
     "output_type": "stream",
     "text": [
      "Epoch [42/80], Step [500/500] Loss: 0.0603\n",
      "Epoch [43/80], Step [100/500] Loss: 0.0376\n",
      "Epoch [43/80], Step [200/500] Loss: 0.0319\n",
      "Epoch [43/80], Step [300/500] Loss: 0.1718\n",
      "Epoch [43/80], Step [400/500] Loss: 0.0276\n"
     ]
    },
    {
     "name": "stderr",
     "output_type": "stream",
     "text": [
      "\r",
      " 54%|█████▍    | 43/80 [12:46<11:01, 17.87s/it]"
     ]
    },
    {
     "name": "stdout",
     "output_type": "stream",
     "text": [
      "Epoch [43/80], Step [500/500] Loss: 0.0128\n",
      "Epoch [44/80], Step [100/500] Loss: 0.0273\n",
      "Epoch [44/80], Step [200/500] Loss: 0.0451\n",
      "Epoch [44/80], Step [300/500] Loss: 0.0158\n",
      "Epoch [44/80], Step [400/500] Loss: 0.0048\n"
     ]
    },
    {
     "name": "stderr",
     "output_type": "stream",
     "text": [
      "\r",
      " 55%|█████▌    | 44/80 [13:04<10:43, 17.87s/it]"
     ]
    },
    {
     "name": "stdout",
     "output_type": "stream",
     "text": [
      "Epoch [44/80], Step [500/500] Loss: 0.0139\n",
      "Epoch [45/80], Step [100/500] Loss: 0.0067\n",
      "Epoch [45/80], Step [200/500] Loss: 0.0538\n",
      "Epoch [45/80], Step [300/500] Loss: 0.0068\n",
      "Epoch [45/80], Step [400/500] Loss: 0.0220\n"
     ]
    },
    {
     "name": "stderr",
     "output_type": "stream",
     "text": [
      "\r",
      " 56%|█████▋    | 45/80 [13:22<10:25, 17.87s/it]"
     ]
    },
    {
     "name": "stdout",
     "output_type": "stream",
     "text": [
      "Epoch [45/80], Step [500/500] Loss: 0.0204\n",
      "Epoch [46/80], Step [100/500] Loss: 0.0122\n",
      "Epoch [46/80], Step [200/500] Loss: 0.0232\n",
      "Epoch [46/80], Step [300/500] Loss: 0.0237\n",
      "Epoch [46/80], Step [400/500] Loss: 0.0785\n"
     ]
    },
    {
     "name": "stderr",
     "output_type": "stream",
     "text": [
      "\r",
      " 57%|█████▊    | 46/80 [13:40<10:07, 17.87s/it]"
     ]
    },
    {
     "name": "stdout",
     "output_type": "stream",
     "text": [
      "Epoch [46/80], Step [500/500] Loss: 0.0175\n",
      "Epoch [47/80], Step [100/500] Loss: 0.0437\n",
      "Epoch [47/80], Step [200/500] Loss: 0.0268\n",
      "Epoch [47/80], Step [300/500] Loss: 0.0210\n",
      "Epoch [47/80], Step [400/500] Loss: 0.0285\n"
     ]
    },
    {
     "name": "stderr",
     "output_type": "stream",
     "text": [
      "\r",
      " 59%|█████▉    | 47/80 [13:58<09:50, 17.88s/it]"
     ]
    },
    {
     "name": "stdout",
     "output_type": "stream",
     "text": [
      "Epoch [47/80], Step [500/500] Loss: 0.0275\n",
      "Epoch [48/80], Step [100/500] Loss: 0.0200\n",
      "Epoch [48/80], Step [200/500] Loss: 0.0620\n",
      "Epoch [48/80], Step [300/500] Loss: 0.0366\n",
      "Epoch [48/80], Step [400/500] Loss: 0.0214\n"
     ]
    },
    {
     "name": "stderr",
     "output_type": "stream",
     "text": [
      "\r",
      " 60%|██████    | 48/80 [14:16<09:31, 17.87s/it]"
     ]
    },
    {
     "name": "stdout",
     "output_type": "stream",
     "text": [
      "Epoch [48/80], Step [500/500] Loss: 0.0192\n",
      "Epoch [49/80], Step [100/500] Loss: 0.0047\n",
      "Epoch [49/80], Step [200/500] Loss: 0.0120\n",
      "Epoch [49/80], Step [300/500] Loss: 0.0325\n",
      "Epoch [49/80], Step [400/500] Loss: 0.0653\n"
     ]
    },
    {
     "name": "stderr",
     "output_type": "stream",
     "text": [
      "\r",
      " 61%|██████▏   | 49/80 [14:34<09:14, 17.87s/it]"
     ]
    },
    {
     "name": "stdout",
     "output_type": "stream",
     "text": [
      "Epoch [49/80], Step [500/500] Loss: 0.0269\n",
      "Epoch [50/80], Step [100/500] Loss: 0.0059\n",
      "Epoch [50/80], Step [200/500] Loss: 0.0144\n",
      "Epoch [50/80], Step [300/500] Loss: 0.0034\n",
      "Epoch [50/80], Step [400/500] Loss: 0.0084\n"
     ]
    },
    {
     "name": "stderr",
     "output_type": "stream",
     "text": [
      "\r",
      " 62%|██████▎   | 50/80 [14:52<08:56, 17.87s/it]"
     ]
    },
    {
     "name": "stdout",
     "output_type": "stream",
     "text": [
      "Epoch [50/80], Step [500/500] Loss: 0.0207\n",
      "Epoch [51/80], Step [100/500] Loss: 0.0447\n",
      "Epoch [51/80], Step [200/500] Loss: 0.0198\n",
      "Epoch [51/80], Step [300/500] Loss: 0.0193\n",
      "Epoch [51/80], Step [400/500] Loss: 0.0160\n"
     ]
    },
    {
     "name": "stderr",
     "output_type": "stream",
     "text": [
      "\r",
      " 64%|██████▍   | 51/80 [15:09<08:38, 17.87s/it]"
     ]
    },
    {
     "name": "stdout",
     "output_type": "stream",
     "text": [
      "Epoch [51/80], Step [500/500] Loss: 0.0658\n",
      "Epoch [52/80], Step [100/500] Loss: 0.0133\n",
      "Epoch [52/80], Step [200/500] Loss: 0.0107\n",
      "Epoch [52/80], Step [300/500] Loss: 0.0706\n",
      "Epoch [52/80], Step [400/500] Loss: 0.0381\n"
     ]
    },
    {
     "name": "stderr",
     "output_type": "stream",
     "text": [
      "\r",
      " 65%|██████▌   | 52/80 [15:27<08:20, 17.88s/it]"
     ]
    },
    {
     "name": "stdout",
     "output_type": "stream",
     "text": [
      "Epoch [52/80], Step [500/500] Loss: 0.0229\n",
      "Epoch [53/80], Step [100/500] Loss: 0.0281\n",
      "Epoch [53/80], Step [200/500] Loss: 0.0291\n",
      "Epoch [53/80], Step [300/500] Loss: 0.0379\n",
      "Epoch [53/80], Step [400/500] Loss: 0.0941\n"
     ]
    },
    {
     "name": "stderr",
     "output_type": "stream",
     "text": [
      "\r",
      " 66%|██████▋   | 53/80 [15:45<08:02, 17.87s/it]"
     ]
    },
    {
     "name": "stdout",
     "output_type": "stream",
     "text": [
      "Epoch [53/80], Step [500/500] Loss: 0.0111\n",
      "Epoch [54/80], Step [100/500] Loss: 0.0323\n",
      "Epoch [54/80], Step [200/500] Loss: 0.0207\n",
      "Epoch [54/80], Step [300/500] Loss: 0.0311\n",
      "Epoch [54/80], Step [400/500] Loss: 0.0133\n"
     ]
    },
    {
     "name": "stderr",
     "output_type": "stream",
     "text": [
      "\r",
      " 68%|██████▊   | 54/80 [16:03<07:44, 17.87s/it]"
     ]
    },
    {
     "name": "stdout",
     "output_type": "stream",
     "text": [
      "Epoch [54/80], Step [500/500] Loss: 0.0030\n",
      "Epoch [55/80], Step [100/500] Loss: 0.0059\n",
      "Epoch [55/80], Step [200/500] Loss: 0.0164\n",
      "Epoch [55/80], Step [300/500] Loss: 0.0012\n",
      "Epoch [55/80], Step [400/500] Loss: 0.0023\n"
     ]
    },
    {
     "name": "stderr",
     "output_type": "stream",
     "text": [
      "\r",
      " 69%|██████▉   | 55/80 [16:21<07:26, 17.87s/it]"
     ]
    },
    {
     "name": "stdout",
     "output_type": "stream",
     "text": [
      "Epoch [55/80], Step [500/500] Loss: 0.0124\n",
      "Epoch [56/80], Step [100/500] Loss: 0.0042\n",
      "Epoch [56/80], Step [200/500] Loss: 0.0060\n",
      "Epoch [56/80], Step [300/500] Loss: 0.0481\n",
      "Epoch [56/80], Step [400/500] Loss: 0.0161\n"
     ]
    },
    {
     "name": "stderr",
     "output_type": "stream",
     "text": [
      "\r",
      " 70%|███████   | 56/80 [16:39<07:08, 17.87s/it]"
     ]
    },
    {
     "name": "stdout",
     "output_type": "stream",
     "text": [
      "Epoch [56/80], Step [500/500] Loss: 0.0196\n",
      "Epoch [57/80], Step [100/500] Loss: 0.0023\n",
      "Epoch [57/80], Step [200/500] Loss: 0.0234\n",
      "Epoch [57/80], Step [300/500] Loss: 0.0107\n",
      "Epoch [57/80], Step [400/500] Loss: 0.0206\n"
     ]
    },
    {
     "name": "stderr",
     "output_type": "stream",
     "text": [
      "\r",
      " 71%|███████▏  | 57/80 [16:57<06:51, 17.89s/it]"
     ]
    },
    {
     "name": "stdout",
     "output_type": "stream",
     "text": [
      "Epoch [57/80], Step [500/500] Loss: 0.0007\n",
      "Epoch [58/80], Step [100/500] Loss: 0.0234\n",
      "Epoch [58/80], Step [200/500] Loss: 0.0349\n",
      "Epoch [58/80], Step [300/500] Loss: 0.0250\n",
      "Epoch [58/80], Step [400/500] Loss: 0.0046\n"
     ]
    },
    {
     "name": "stderr",
     "output_type": "stream",
     "text": [
      "\r",
      " 72%|███████▎  | 58/80 [17:15<06:33, 17.88s/it]"
     ]
    },
    {
     "name": "stdout",
     "output_type": "stream",
     "text": [
      "Epoch [58/80], Step [500/500] Loss: 0.0102\n",
      "Epoch [59/80], Step [100/500] Loss: 0.0038\n",
      "Epoch [59/80], Step [200/500] Loss: 0.0032\n",
      "Epoch [59/80], Step [300/500] Loss: 0.0103\n",
      "Epoch [59/80], Step [400/500] Loss: 0.0011\n"
     ]
    },
    {
     "name": "stderr",
     "output_type": "stream",
     "text": [
      "\r",
      " 74%|███████▍  | 59/80 [17:32<06:15, 17.87s/it]"
     ]
    },
    {
     "name": "stdout",
     "output_type": "stream",
     "text": [
      "Epoch [59/80], Step [500/500] Loss: 0.0076\n",
      "Epoch [60/80], Step [100/500] Loss: 0.0661\n",
      "Epoch [60/80], Step [200/500] Loss: 0.0098\n",
      "Epoch [60/80], Step [300/500] Loss: 0.0397\n",
      "Epoch [60/80], Step [400/500] Loss: 0.0106\n"
     ]
    },
    {
     "name": "stderr",
     "output_type": "stream",
     "text": [
      "\r",
      " 75%|███████▌  | 60/80 [17:50<05:57, 17.87s/it]"
     ]
    },
    {
     "name": "stdout",
     "output_type": "stream",
     "text": [
      "Epoch [60/80], Step [500/500] Loss: 0.0074\n",
      "Epoch [61/80], Step [100/500] Loss: 0.0197\n",
      "Epoch [61/80], Step [200/500] Loss: 0.0321\n",
      "Epoch [61/80], Step [300/500] Loss: 0.0161\n",
      "Epoch [61/80], Step [400/500] Loss: 0.0054\n"
     ]
    },
    {
     "name": "stderr",
     "output_type": "stream",
     "text": [
      "\r",
      " 76%|███████▋  | 61/80 [18:08<05:39, 17.87s/it]"
     ]
    },
    {
     "name": "stdout",
     "output_type": "stream",
     "text": [
      "Epoch [61/80], Step [500/500] Loss: 0.0083\n",
      "Epoch [62/80], Step [100/500] Loss: 0.0014\n",
      "Epoch [62/80], Step [200/500] Loss: 0.0558\n",
      "Epoch [62/80], Step [300/500] Loss: 0.0084\n",
      "Epoch [62/80], Step [400/500] Loss: 0.0127\n"
     ]
    },
    {
     "name": "stderr",
     "output_type": "stream",
     "text": [
      "\r",
      " 78%|███████▊  | 62/80 [18:26<05:21, 17.88s/it]"
     ]
    },
    {
     "name": "stdout",
     "output_type": "stream",
     "text": [
      "Epoch [62/80], Step [500/500] Loss: 0.0085\n",
      "Epoch [63/80], Step [100/500] Loss: 0.0207\n",
      "Epoch [63/80], Step [200/500] Loss: 0.0053\n",
      "Epoch [63/80], Step [300/500] Loss: 0.0027\n",
      "Epoch [63/80], Step [400/500] Loss: 0.0152\n"
     ]
    },
    {
     "name": "stderr",
     "output_type": "stream",
     "text": [
      "\r",
      " 79%|███████▉  | 63/80 [18:44<05:03, 17.87s/it]"
     ]
    },
    {
     "name": "stdout",
     "output_type": "stream",
     "text": [
      "Epoch [63/80], Step [500/500] Loss: 0.0343\n",
      "Epoch [64/80], Step [100/500] Loss: 0.0056\n",
      "Epoch [64/80], Step [200/500] Loss: 0.0282\n",
      "Epoch [64/80], Step [300/500] Loss: 0.0153\n",
      "Epoch [64/80], Step [400/500] Loss: 0.0082\n"
     ]
    },
    {
     "name": "stderr",
     "output_type": "stream",
     "text": [
      "\r",
      " 80%|████████  | 64/80 [19:02<04:45, 17.87s/it]"
     ]
    },
    {
     "name": "stdout",
     "output_type": "stream",
     "text": [
      "Epoch [64/80], Step [500/500] Loss: 0.0139\n",
      "Epoch [65/80], Step [100/500] Loss: 0.0126\n",
      "Epoch [65/80], Step [200/500] Loss: 0.0075\n",
      "Epoch [65/80], Step [300/500] Loss: 0.0222\n",
      "Epoch [65/80], Step [400/500] Loss: 0.0369\n"
     ]
    },
    {
     "name": "stderr",
     "output_type": "stream",
     "text": [
      "\r",
      " 81%|████████▏ | 65/80 [19:20<04:27, 17.86s/it]"
     ]
    },
    {
     "name": "stdout",
     "output_type": "stream",
     "text": [
      "Epoch [65/80], Step [500/500] Loss: 0.0041\n",
      "Epoch [66/80], Step [100/500] Loss: 0.0183\n",
      "Epoch [66/80], Step [200/500] Loss: 0.0318\n",
      "Epoch [66/80], Step [300/500] Loss: 0.0058\n",
      "Epoch [66/80], Step [400/500] Loss: 0.0121\n"
     ]
    },
    {
     "name": "stderr",
     "output_type": "stream",
     "text": [
      "\r",
      " 82%|████████▎ | 66/80 [19:38<04:10, 17.86s/it]"
     ]
    },
    {
     "name": "stdout",
     "output_type": "stream",
     "text": [
      "Epoch [66/80], Step [500/500] Loss: 0.0011\n",
      "Epoch [67/80], Step [100/500] Loss: 0.0053\n",
      "Epoch [67/80], Step [200/500] Loss: 0.0229\n",
      "Epoch [67/80], Step [300/500] Loss: 0.0025\n",
      "Epoch [67/80], Step [400/500] Loss: 0.0069\n"
     ]
    },
    {
     "name": "stderr",
     "output_type": "stream",
     "text": [
      "\r",
      " 84%|████████▍ | 67/80 [19:55<03:52, 17.86s/it]"
     ]
    },
    {
     "name": "stdout",
     "output_type": "stream",
     "text": [
      "Epoch [67/80], Step [500/500] Loss: 0.0011\n",
      "Epoch [68/80], Step [100/500] Loss: 0.0218\n",
      "Epoch [68/80], Step [200/500] Loss: 0.0040\n",
      "Epoch [68/80], Step [300/500] Loss: 0.0024\n",
      "Epoch [68/80], Step [400/500] Loss: 0.0103\n"
     ]
    },
    {
     "name": "stderr",
     "output_type": "stream",
     "text": [
      "\r",
      " 85%|████████▌ | 68/80 [20:13<03:34, 17.87s/it]"
     ]
    },
    {
     "name": "stdout",
     "output_type": "stream",
     "text": [
      "Epoch [68/80], Step [500/500] Loss: 0.0017\n",
      "Epoch [69/80], Step [100/500] Loss: 0.0029\n",
      "Epoch [69/80], Step [200/500] Loss: 0.0037\n",
      "Epoch [69/80], Step [300/500] Loss: 0.0055\n",
      "Epoch [69/80], Step [400/500] Loss: 0.0373\n"
     ]
    },
    {
     "name": "stderr",
     "output_type": "stream",
     "text": [
      "\r",
      " 86%|████████▋ | 69/80 [20:31<03:16, 17.87s/it]"
     ]
    },
    {
     "name": "stdout",
     "output_type": "stream",
     "text": [
      "Epoch [69/80], Step [500/500] Loss: 0.0255\n",
      "Epoch [70/80], Step [100/500] Loss: 0.0357\n",
      "Epoch [70/80], Step [200/500] Loss: 0.0023\n",
      "Epoch [70/80], Step [300/500] Loss: 0.0052\n",
      "Epoch [70/80], Step [400/500] Loss: 0.0036\n"
     ]
    },
    {
     "name": "stderr",
     "output_type": "stream",
     "text": [
      "\r",
      " 88%|████████▊ | 70/80 [20:49<02:58, 17.88s/it]"
     ]
    },
    {
     "name": "stdout",
     "output_type": "stream",
     "text": [
      "Epoch [70/80], Step [500/500] Loss: 0.0122\n",
      "Epoch [71/80], Step [100/500] Loss: 0.0014\n",
      "Epoch [71/80], Step [200/500] Loss: 0.0046\n",
      "Epoch [71/80], Step [300/500] Loss: 0.0139\n",
      "Epoch [71/80], Step [400/500] Loss: 0.0283\n"
     ]
    },
    {
     "name": "stderr",
     "output_type": "stream",
     "text": [
      "\r",
      " 89%|████████▉ | 71/80 [21:07<02:40, 17.87s/it]"
     ]
    },
    {
     "name": "stdout",
     "output_type": "stream",
     "text": [
      "Epoch [71/80], Step [500/500] Loss: 0.0013\n",
      "Epoch [72/80], Step [100/500] Loss: 0.0186\n",
      "Epoch [72/80], Step [200/500] Loss: 0.0013\n",
      "Epoch [72/80], Step [300/500] Loss: 0.0546\n",
      "Epoch [72/80], Step [400/500] Loss: 0.0157\n"
     ]
    },
    {
     "name": "stderr",
     "output_type": "stream",
     "text": [
      "\r",
      " 90%|█████████ | 72/80 [21:25<02:22, 17.87s/it]"
     ]
    },
    {
     "name": "stdout",
     "output_type": "stream",
     "text": [
      "Epoch [72/80], Step [500/500] Loss: 0.0084\n",
      "Epoch [73/80], Step [100/500] Loss: 0.0122\n",
      "Epoch [73/80], Step [200/500] Loss: 0.0174\n",
      "Epoch [73/80], Step [300/500] Loss: 0.0096\n",
      "Epoch [73/80], Step [400/500] Loss: 0.0015\n"
     ]
    },
    {
     "name": "stderr",
     "output_type": "stream",
     "text": [
      "\r",
      " 91%|█████████▏| 73/80 [21:43<02:05, 17.88s/it]"
     ]
    },
    {
     "name": "stdout",
     "output_type": "stream",
     "text": [
      "Epoch [73/80], Step [500/500] Loss: 0.0138\n",
      "Epoch [74/80], Step [100/500] Loss: 0.0073\n",
      "Epoch [74/80], Step [200/500] Loss: 0.0176\n",
      "Epoch [74/80], Step [300/500] Loss: 0.0019\n",
      "Epoch [74/80], Step [400/500] Loss: 0.0080\n"
     ]
    },
    {
     "name": "stderr",
     "output_type": "stream",
     "text": [
      "\r",
      " 92%|█████████▎| 74/80 [22:01<01:47, 17.88s/it]"
     ]
    },
    {
     "name": "stdout",
     "output_type": "stream",
     "text": [
      "Epoch [74/80], Step [500/500] Loss: 0.0072\n",
      "Epoch [75/80], Step [100/500] Loss: 0.0023\n",
      "Epoch [75/80], Step [200/500] Loss: 0.0043\n",
      "Epoch [75/80], Step [300/500] Loss: 0.0133\n",
      "Epoch [75/80], Step [400/500] Loss: 0.0247\n"
     ]
    },
    {
     "name": "stderr",
     "output_type": "stream",
     "text": [
      "\r",
      " 94%|█████████▍| 75/80 [22:18<01:29, 17.88s/it]"
     ]
    },
    {
     "name": "stdout",
     "output_type": "stream",
     "text": [
      "Epoch [75/80], Step [500/500] Loss: 0.0084\n",
      "Epoch [76/80], Step [100/500] Loss: 0.0024\n",
      "Epoch [76/80], Step [200/500] Loss: 0.0522\n",
      "Epoch [76/80], Step [300/500] Loss: 0.0032\n",
      "Epoch [76/80], Step [400/500] Loss: 0.0380\n"
     ]
    },
    {
     "name": "stderr",
     "output_type": "stream",
     "text": [
      "\r",
      " 95%|█████████▌| 76/80 [22:36<01:11, 17.88s/it]"
     ]
    },
    {
     "name": "stdout",
     "output_type": "stream",
     "text": [
      "Epoch [76/80], Step [500/500] Loss: 0.0041\n",
      "Epoch [77/80], Step [100/500] Loss: 0.0019\n",
      "Epoch [77/80], Step [200/500] Loss: 0.0042\n",
      "Epoch [77/80], Step [300/500] Loss: 0.0122\n",
      "Epoch [77/80], Step [400/500] Loss: 0.0007\n"
     ]
    },
    {
     "name": "stderr",
     "output_type": "stream",
     "text": [
      "\r",
      " 96%|█████████▋| 77/80 [22:54<00:53, 17.88s/it]"
     ]
    },
    {
     "name": "stdout",
     "output_type": "stream",
     "text": [
      "Epoch [77/80], Step [500/500] Loss: 0.0031\n",
      "Epoch [78/80], Step [100/500] Loss: 0.0205\n",
      "Epoch [78/80], Step [200/500] Loss: 0.0550\n",
      "Epoch [78/80], Step [300/500] Loss: 0.0006\n",
      "Epoch [78/80], Step [400/500] Loss: 0.0030\n"
     ]
    },
    {
     "name": "stderr",
     "output_type": "stream",
     "text": [
      "\r",
      " 98%|█████████▊| 78/80 [23:12<00:35, 17.88s/it]"
     ]
    },
    {
     "name": "stdout",
     "output_type": "stream",
     "text": [
      "Epoch [78/80], Step [500/500] Loss: 0.0224\n",
      "Epoch [79/80], Step [100/500] Loss: 0.0024\n",
      "Epoch [79/80], Step [200/500] Loss: 0.0071\n",
      "Epoch [79/80], Step [300/500] Loss: 0.0102\n",
      "Epoch [79/80], Step [400/500] Loss: 0.0278\n"
     ]
    },
    {
     "name": "stderr",
     "output_type": "stream",
     "text": [
      "\r",
      " 99%|█████████▉| 79/80 [23:30<00:17, 17.88s/it]"
     ]
    },
    {
     "name": "stdout",
     "output_type": "stream",
     "text": [
      "Epoch [79/80], Step [500/500] Loss: 0.0118\n",
      "Epoch [80/80], Step [100/500] Loss: 0.0211\n",
      "Epoch [80/80], Step [200/500] Loss: 0.0028\n",
      "Epoch [80/80], Step [300/500] Loss: 0.0052\n",
      "Epoch [80/80], Step [400/500] Loss: 0.0160\n"
     ]
    },
    {
     "name": "stderr",
     "output_type": "stream",
     "text": [
      "100%|██████████| 80/80 [23:48<00:00, 17.85s/it]"
     ]
    },
    {
     "name": "stdout",
     "output_type": "stream",
     "text": [
      "Epoch [80/80], Step [500/500] Loss: 0.0042\n"
     ]
    },
    {
     "name": "stderr",
     "output_type": "stream",
     "text": [
      "\n"
     ]
    },
    {
     "name": "stdout",
     "output_type": "stream",
     "text": [
      "Accuracy of the model on the test images: 90.78 %\n"
     ]
    },
    {
     "data": {
      "text/html": [
       "<br/>Waiting for W&B process to finish, PID 1887303<br/>Program ended successfully."
      ],
      "text/plain": [
       "<IPython.core.display.HTML object>"
      ]
     },
     "metadata": {},
     "output_type": "display_data"
    },
    {
     "data": {
      "application/vnd.jupyter.widget-view+json": {
       "model_id": "",
       "version_major": 2,
       "version_minor": 0
      },
      "text/plain": [
       "VBox(children=(Label(value=' 0.00MB of 0.00MB uploaded (0.00MB deduped)\\r'), FloatProgress(value=1.0, max=1.0)…"
      ]
     },
     "metadata": {},
     "output_type": "display_data"
    },
    {
     "data": {
      "text/html": [
       "Find user logs for this run at: <code>/home/teghub/Documents/PyTorch_CIFAR10-master/wandb/run-20220113_141706-ef7yabdt/logs/debug.log</code>"
      ],
      "text/plain": [
       "<IPython.core.display.HTML object>"
      ]
     },
     "metadata": {},
     "output_type": "display_data"
    },
    {
     "data": {
      "text/html": [
       "Find internal logs for this run at: <code>/home/teghub/Documents/PyTorch_CIFAR10-master/wandb/run-20220113_141706-ef7yabdt/logs/debug-internal.log</code>"
      ],
      "text/plain": [
       "<IPython.core.display.HTML object>"
      ]
     },
     "metadata": {},
     "output_type": "display_data"
    },
    {
     "data": {
      "text/html": [
       "<h3>Run summary:</h3><br/><style>\n",
       "    table.wandb td:nth-child(1) { padding: 0 10px; text-align: right }\n",
       "    </style><table class=\"wandb\">\n",
       "<tr><td>Epoch</td><td>80</td></tr><tr><td>Loss</td><td>0.00417</td></tr><tr><td>_runtime</td><td>1433</td></tr><tr><td>_timestamp</td><td>1642074059</td></tr><tr><td>_step</td><td>399</td></tr></table>"
      ],
      "text/plain": [
       "<IPython.core.display.HTML object>"
      ]
     },
     "metadata": {},
     "output_type": "display_data"
    },
    {
     "data": {
      "text/html": [
       "<h3>Run history:</h3><br/><style>\n",
       "    table.wandb td:nth-child(1) { padding: 0 10px; text-align: right }\n",
       "    </style><table class=\"wandb\">\n",
       "<tr><td>Epoch</td><td>▁▁▁▂▂▂▂▂▂▃▃▃▃▃▃▄▄▄▄▄▅▅▅▅▅▆▆▆▆▆▆▇▇▇▇▇▇███</td></tr><tr><td>Loss</td><td>█▆▅▄▄▃▃▃▃▂▂▂▂▁▁▁▁▁▁▁▁▁▁▁▁▁▁▁▁▁▁▁▁▁▁▁▁▁▁▁</td></tr><tr><td>_runtime</td><td>▁▁▁▁▂▂▂▂▂▃▃▃▃▃▃▄▄▄▄▄▅▅▅▅▅▅▆▆▆▆▆▇▇▇▇▇▇███</td></tr><tr><td>_timestamp</td><td>▁▁▁▁▂▂▂▂▂▃▃▃▃▃▃▄▄▄▄▄▅▅▅▅▅▅▆▆▆▆▆▇▇▇▇▇▇███</td></tr><tr><td>_step</td><td>▁▁▁▁▂▂▂▂▂▃▃▃▃▃▃▄▄▄▄▄▅▅▅▅▅▅▆▆▆▆▆▇▇▇▇▇▇███</td></tr></table><br/>"
      ],
      "text/plain": [
       "<IPython.core.display.HTML object>"
      ]
     },
     "metadata": {},
     "output_type": "display_data"
    },
    {
     "data": {
      "text/html": [
       "Synced 5 W&B file(s), 0 media file(s), 0 artifact file(s) and 0 other file(s)"
      ],
      "text/plain": [
       "<IPython.core.display.HTML object>"
      ]
     },
     "metadata": {},
     "output_type": "display_data"
    },
    {
     "data": {
      "text/html": [
       "\n",
       "                    <br/>Synced <strong style=\"color:#cdcd00\">pious-sweep-1</strong>: <a href=\"https://wandb.ai/firatc/mmi712-term-project/runs/ef7yabdt\" target=\"_blank\">https://wandb.ai/firatc/mmi712-term-project/runs/ef7yabdt</a><br/>\n",
       "                "
      ],
      "text/plain": [
       "<IPython.core.display.HTML object>"
      ]
     },
     "metadata": {},
     "output_type": "display_data"
    },
    {
     "name": "stderr",
     "output_type": "stream",
     "text": [
      "\u001b[34m\u001b[1mwandb\u001b[0m: Agent Starting Run: mmv6v1vm with config:\n",
      "\u001b[34m\u001b[1mwandb\u001b[0m: \tlearning_rate: 0.01\n",
      "\u001b[34m\u001b[1mwandb\u001b[0m: wandb version 0.12.9 is available!  To upgrade, please run:\n",
      "\u001b[34m\u001b[1mwandb\u001b[0m:  $ pip install wandb --upgrade\n"
     ]
    },
    {
     "data": {
      "text/html": [
       "\n",
       "                Tracking run with wandb version 0.10.21<br/>\n",
       "                Syncing run <strong style=\"color:#cdcd00\">copper-sweep-2</strong> to <a href=\"https://wandb.ai\" target=\"_blank\">Weights & Biases</a> <a href=\"https://docs.wandb.com/integrations/jupyter.html\" target=\"_blank\">(Documentation)</a>.<br/>\n",
       "                Project page: <a href=\"https://wandb.ai/firatc/mmi712-term-project\" target=\"_blank\">https://wandb.ai/firatc/mmi712-term-project</a><br/>\n",
       "                Sweep page: <a href=\"https://wandb.ai/firatc/mmi712-term-project/sweeps/dvsgvufx\" target=\"_blank\">https://wandb.ai/firatc/mmi712-term-project/sweeps/dvsgvufx</a><br/>\n",
       "Run page: <a href=\"https://wandb.ai/firatc/mmi712-term-project/runs/mmv6v1vm\" target=\"_blank\">https://wandb.ai/firatc/mmi712-term-project/runs/mmv6v1vm</a><br/>\n",
       "                Run data is saved locally in <code>/home/teghub/Documents/PyTorch_CIFAR10-master/wandb/run-20220113_144107-mmv6v1vm</code><br/><br/>\n",
       "            "
      ],
      "text/plain": [
       "<IPython.core.display.HTML object>"
      ]
     },
     "metadata": {},
     "output_type": "display_data"
    },
    {
     "name": "stderr",
     "output_type": "stream",
     "text": [
      "\r",
      "  0%|          | 0/80 [00:00<?, ?it/s]"
     ]
    },
    {
     "name": "stdout",
     "output_type": "stream",
     "text": [
      "Epoch [1/80], Step [100/500] Loss: 1.8705\n",
      "Epoch [1/80], Step [200/500] Loss: 1.5548\n",
      "Epoch [1/80], Step [300/500] Loss: 1.7460\n",
      "Epoch [1/80], Step [400/500] Loss: 1.5215\n"
     ]
    },
    {
     "name": "stderr",
     "output_type": "stream",
     "text": [
      "\r",
      "  1%|▏         | 1/80 [00:18<24:45, 18.80s/it]"
     ]
    },
    {
     "name": "stdout",
     "output_type": "stream",
     "text": [
      "Epoch [1/80], Step [500/500] Loss: 1.2853\n",
      "Epoch [2/80], Step [100/500] Loss: 1.1649\n",
      "Epoch [2/80], Step [200/500] Loss: 1.3205\n",
      "Epoch [2/80], Step [300/500] Loss: 1.2435\n",
      "Epoch [2/80], Step [400/500] Loss: 1.0596\n"
     ]
    },
    {
     "name": "stderr",
     "output_type": "stream",
     "text": [
      "\r",
      "  2%|▎         | 2/80 [00:36<23:58, 18.44s/it]"
     ]
    },
    {
     "name": "stdout",
     "output_type": "stream",
     "text": [
      "Epoch [2/80], Step [500/500] Loss: 1.1343\n",
      "Epoch [3/80], Step [100/500] Loss: 1.1117\n",
      "Epoch [3/80], Step [200/500] Loss: 0.9604\n",
      "Epoch [3/80], Step [300/500] Loss: 1.0055\n",
      "Epoch [3/80], Step [400/500] Loss: 1.1167\n"
     ]
    },
    {
     "name": "stderr",
     "output_type": "stream",
     "text": [
      "\r",
      "  4%|▍         | 3/80 [00:54<23:20, 18.19s/it]"
     ]
    },
    {
     "name": "stdout",
     "output_type": "stream",
     "text": [
      "Epoch [3/80], Step [500/500] Loss: 1.1714\n",
      "Epoch [4/80], Step [100/500] Loss: 0.9478\n",
      "Epoch [4/80], Step [200/500] Loss: 0.9938\n",
      "Epoch [4/80], Step [300/500] Loss: 0.9199\n",
      "Epoch [4/80], Step [400/500] Loss: 0.9141\n"
     ]
    },
    {
     "name": "stderr",
     "output_type": "stream",
     "text": [
      "\r",
      "  5%|▌         | 4/80 [01:12<22:53, 18.07s/it]"
     ]
    },
    {
     "name": "stdout",
     "output_type": "stream",
     "text": [
      "Epoch [4/80], Step [500/500] Loss: 0.9743\n",
      "Epoch [5/80], Step [100/500] Loss: 0.8440\n",
      "Epoch [5/80], Step [200/500] Loss: 0.7596\n",
      "Epoch [5/80], Step [300/500] Loss: 0.6812\n",
      "Epoch [5/80], Step [400/500] Loss: 0.6251\n"
     ]
    },
    {
     "name": "stderr",
     "output_type": "stream",
     "text": [
      "\r",
      "  6%|▋         | 5/80 [01:30<22:30, 18.01s/it]"
     ]
    },
    {
     "name": "stdout",
     "output_type": "stream",
     "text": [
      "Epoch [5/80], Step [500/500] Loss: 0.8565\n",
      "Epoch [6/80], Step [100/500] Loss: 0.5790\n",
      "Epoch [6/80], Step [200/500] Loss: 0.7890\n",
      "Epoch [6/80], Step [300/500] Loss: 0.7391\n",
      "Epoch [6/80], Step [400/500] Loss: 0.6328\n"
     ]
    },
    {
     "name": "stderr",
     "output_type": "stream",
     "text": [
      "\r",
      "  8%|▊         | 6/80 [01:48<22:10, 17.98s/it]"
     ]
    },
    {
     "name": "stdout",
     "output_type": "stream",
     "text": [
      "Epoch [6/80], Step [500/500] Loss: 0.6979\n",
      "Epoch [7/80], Step [100/500] Loss: 0.6249\n",
      "Epoch [7/80], Step [200/500] Loss: 0.4432\n",
      "Epoch [7/80], Step [300/500] Loss: 0.5979\n",
      "Epoch [7/80], Step [400/500] Loss: 0.6927\n"
     ]
    },
    {
     "name": "stderr",
     "output_type": "stream",
     "text": [
      "\r",
      "  9%|▉         | 7/80 [02:06<21:51, 17.96s/it]"
     ]
    },
    {
     "name": "stdout",
     "output_type": "stream",
     "text": [
      "Epoch [7/80], Step [500/500] Loss: 0.5835\n",
      "Epoch [8/80], Step [100/500] Loss: 0.4308\n",
      "Epoch [8/80], Step [200/500] Loss: 0.6086\n",
      "Epoch [8/80], Step [300/500] Loss: 0.6151\n",
      "Epoch [8/80], Step [400/500] Loss: 0.4460\n"
     ]
    },
    {
     "name": "stderr",
     "output_type": "stream",
     "text": [
      "\r",
      " 10%|█         | 8/80 [02:24<21:32, 17.95s/it]"
     ]
    },
    {
     "name": "stdout",
     "output_type": "stream",
     "text": [
      "Epoch [8/80], Step [500/500] Loss: 0.6233\n",
      "Epoch [9/80], Step [100/500] Loss: 0.5789\n",
      "Epoch [9/80], Step [200/500] Loss: 0.6724\n",
      "Epoch [9/80], Step [300/500] Loss: 0.4826\n",
      "Epoch [9/80], Step [400/500] Loss: 0.6243\n"
     ]
    },
    {
     "name": "stderr",
     "output_type": "stream",
     "text": [
      "\r",
      " 11%|█▏        | 9/80 [02:42<21:13, 17.94s/it]"
     ]
    },
    {
     "name": "stdout",
     "output_type": "stream",
     "text": [
      "Epoch [9/80], Step [500/500] Loss: 0.5281\n",
      "Epoch [10/80], Step [100/500] Loss: 0.6073\n",
      "Epoch [10/80], Step [200/500] Loss: 0.5377\n",
      "Epoch [10/80], Step [300/500] Loss: 0.3334\n",
      "Epoch [10/80], Step [400/500] Loss: 0.4197\n"
     ]
    },
    {
     "name": "stderr",
     "output_type": "stream",
     "text": [
      "\r",
      " 12%|█▎        | 10/80 [03:00<20:55, 17.94s/it]"
     ]
    },
    {
     "name": "stdout",
     "output_type": "stream",
     "text": [
      "Epoch [10/80], Step [500/500] Loss: 0.4783\n",
      "Epoch [11/80], Step [100/500] Loss: 0.3497\n",
      "Epoch [11/80], Step [200/500] Loss: 0.5768\n",
      "Epoch [11/80], Step [300/500] Loss: 0.3754\n",
      "Epoch [11/80], Step [400/500] Loss: 0.4450\n"
     ]
    },
    {
     "name": "stderr",
     "output_type": "stream",
     "text": [
      "\r",
      " 14%|█▍        | 11/80 [03:18<20:37, 17.94s/it]"
     ]
    },
    {
     "name": "stdout",
     "output_type": "stream",
     "text": [
      "Epoch [11/80], Step [500/500] Loss: 0.5097\n",
      "Epoch [12/80], Step [100/500] Loss: 0.3322\n",
      "Epoch [12/80], Step [200/500] Loss: 0.4911\n",
      "Epoch [12/80], Step [300/500] Loss: 0.4005\n",
      "Epoch [12/80], Step [400/500] Loss: 0.4246\n"
     ]
    },
    {
     "name": "stderr",
     "output_type": "stream",
     "text": [
      "\r",
      " 15%|█▌        | 12/80 [03:36<20:19, 17.93s/it]"
     ]
    },
    {
     "name": "stdout",
     "output_type": "stream",
     "text": [
      "Epoch [12/80], Step [500/500] Loss: 0.3595\n",
      "Epoch [13/80], Step [100/500] Loss: 0.2803\n",
      "Epoch [13/80], Step [200/500] Loss: 0.5230\n",
      "Epoch [13/80], Step [300/500] Loss: 0.3695\n",
      "Epoch [13/80], Step [400/500] Loss: 0.3835\n"
     ]
    },
    {
     "name": "stderr",
     "output_type": "stream",
     "text": [
      "\r",
      " 16%|█▋        | 13/80 [03:54<20:00, 17.93s/it]"
     ]
    },
    {
     "name": "stdout",
     "output_type": "stream",
     "text": [
      "Epoch [13/80], Step [500/500] Loss: 0.4621\n",
      "Epoch [14/80], Step [100/500] Loss: 0.4542\n",
      "Epoch [14/80], Step [200/500] Loss: 0.4076\n",
      "Epoch [14/80], Step [300/500] Loss: 0.3420\n",
      "Epoch [14/80], Step [400/500] Loss: 0.2537\n"
     ]
    },
    {
     "name": "stderr",
     "output_type": "stream",
     "text": [
      "\r",
      " 18%|█▊        | 14/80 [04:11<19:42, 17.92s/it]"
     ]
    },
    {
     "name": "stdout",
     "output_type": "stream",
     "text": [
      "Epoch [14/80], Step [500/500] Loss: 0.3628\n",
      "Epoch [15/80], Step [100/500] Loss: 0.5903\n",
      "Epoch [15/80], Step [200/500] Loss: 0.4426\n",
      "Epoch [15/80], Step [300/500] Loss: 0.3191\n",
      "Epoch [15/80], Step [400/500] Loss: 0.4297\n"
     ]
    },
    {
     "name": "stderr",
     "output_type": "stream",
     "text": [
      "\r",
      " 19%|█▉        | 15/80 [04:29<19:24, 17.91s/it]"
     ]
    },
    {
     "name": "stdout",
     "output_type": "stream",
     "text": [
      "Epoch [15/80], Step [500/500] Loss: 0.3109\n",
      "Epoch [16/80], Step [100/500] Loss: 0.3008\n",
      "Epoch [16/80], Step [200/500] Loss: 0.3941\n",
      "Epoch [16/80], Step [300/500] Loss: 0.3657\n",
      "Epoch [16/80], Step [400/500] Loss: 0.2420\n"
     ]
    },
    {
     "name": "stderr",
     "output_type": "stream",
     "text": [
      "\r",
      " 20%|██        | 16/80 [04:47<19:06, 17.91s/it]"
     ]
    },
    {
     "name": "stdout",
     "output_type": "stream",
     "text": [
      "Epoch [16/80], Step [500/500] Loss: 0.2354\n",
      "Epoch [17/80], Step [100/500] Loss: 0.4775\n",
      "Epoch [17/80], Step [200/500] Loss: 0.2534\n",
      "Epoch [17/80], Step [300/500] Loss: 0.3563\n",
      "Epoch [17/80], Step [400/500] Loss: 0.4603\n"
     ]
    },
    {
     "name": "stderr",
     "output_type": "stream",
     "text": [
      "\r",
      " 21%|██▏       | 17/80 [05:05<18:48, 17.91s/it]"
     ]
    },
    {
     "name": "stdout",
     "output_type": "stream",
     "text": [
      "Epoch [17/80], Step [500/500] Loss: 0.3396\n",
      "Epoch [18/80], Step [100/500] Loss: 0.2650\n",
      "Epoch [18/80], Step [200/500] Loss: 0.3230\n",
      "Epoch [18/80], Step [300/500] Loss: 0.2831\n",
      "Epoch [18/80], Step [400/500] Loss: 0.3468\n"
     ]
    },
    {
     "name": "stderr",
     "output_type": "stream",
     "text": [
      "\r",
      " 22%|██▎       | 18/80 [05:23<18:29, 17.90s/it]"
     ]
    },
    {
     "name": "stdout",
     "output_type": "stream",
     "text": [
      "Epoch [18/80], Step [500/500] Loss: 0.2853\n",
      "Epoch [19/80], Step [100/500] Loss: 0.1926\n",
      "Epoch [19/80], Step [200/500] Loss: 0.3007\n",
      "Epoch [19/80], Step [300/500] Loss: 0.3512\n",
      "Epoch [19/80], Step [400/500] Loss: 0.2647\n"
     ]
    },
    {
     "name": "stderr",
     "output_type": "stream",
     "text": [
      "\r",
      " 24%|██▍       | 19/80 [05:41<18:11, 17.89s/it]"
     ]
    },
    {
     "name": "stdout",
     "output_type": "stream",
     "text": [
      "Epoch [19/80], Step [500/500] Loss: 0.4320\n",
      "Epoch [20/80], Step [100/500] Loss: 0.3462\n",
      "Epoch [20/80], Step [200/500] Loss: 0.3016\n",
      "Epoch [20/80], Step [300/500] Loss: 0.4730\n",
      "Epoch [20/80], Step [400/500] Loss: 0.2881\n"
     ]
    },
    {
     "name": "stderr",
     "output_type": "stream",
     "text": [
      "\r",
      " 25%|██▌       | 20/80 [05:59<17:53, 17.89s/it]"
     ]
    },
    {
     "name": "stdout",
     "output_type": "stream",
     "text": [
      "Epoch [20/80], Step [500/500] Loss: 0.3563\n",
      "Epoch [21/80], Step [100/500] Loss: 0.1543\n",
      "Epoch [21/80], Step [200/500] Loss: 0.2008\n",
      "Epoch [21/80], Step [300/500] Loss: 0.1300\n",
      "Epoch [21/80], Step [400/500] Loss: 0.1390\n"
     ]
    },
    {
     "name": "stderr",
     "output_type": "stream",
     "text": [
      "\r",
      " 26%|██▋       | 21/80 [06:17<17:35, 17.89s/it]"
     ]
    },
    {
     "name": "stdout",
     "output_type": "stream",
     "text": [
      "Epoch [21/80], Step [500/500] Loss: 0.2577\n",
      "Epoch [22/80], Step [100/500] Loss: 0.1082\n",
      "Epoch [22/80], Step [200/500] Loss: 0.1829\n",
      "Epoch [22/80], Step [300/500] Loss: 0.1260\n",
      "Epoch [22/80], Step [400/500] Loss: 0.0804\n"
     ]
    },
    {
     "name": "stderr",
     "output_type": "stream",
     "text": [
      "\r",
      " 28%|██▊       | 22/80 [06:35<17:17, 17.88s/it]"
     ]
    },
    {
     "name": "stdout",
     "output_type": "stream",
     "text": [
      "Epoch [22/80], Step [500/500] Loss: 0.1730\n",
      "Epoch [23/80], Step [100/500] Loss: 0.2322\n",
      "Epoch [23/80], Step [200/500] Loss: 0.1516\n",
      "Epoch [23/80], Step [300/500] Loss: 0.1361\n",
      "Epoch [23/80], Step [400/500] Loss: 0.0998\n"
     ]
    },
    {
     "name": "stderr",
     "output_type": "stream",
     "text": [
      "\r",
      " 29%|██▉       | 23/80 [06:52<16:59, 17.89s/it]"
     ]
    },
    {
     "name": "stdout",
     "output_type": "stream",
     "text": [
      "Epoch [23/80], Step [500/500] Loss: 0.2819\n",
      "Epoch [24/80], Step [100/500] Loss: 0.1543\n",
      "Epoch [24/80], Step [200/500] Loss: 0.0442\n",
      "Epoch [24/80], Step [300/500] Loss: 0.1715\n",
      "Epoch [24/80], Step [400/500] Loss: 0.1872\n"
     ]
    },
    {
     "name": "stderr",
     "output_type": "stream",
     "text": [
      "\r",
      " 30%|███       | 24/80 [07:10<16:41, 17.89s/it]"
     ]
    },
    {
     "name": "stdout",
     "output_type": "stream",
     "text": [
      "Epoch [24/80], Step [500/500] Loss: 0.1602\n",
      "Epoch [25/80], Step [100/500] Loss: 0.0677\n",
      "Epoch [25/80], Step [200/500] Loss: 0.1768\n",
      "Epoch [25/80], Step [300/500] Loss: 0.2317\n",
      "Epoch [25/80], Step [400/500] Loss: 0.1979\n"
     ]
    },
    {
     "name": "stderr",
     "output_type": "stream",
     "text": [
      "\r",
      " 31%|███▏      | 25/80 [07:28<16:23, 17.88s/it]"
     ]
    },
    {
     "name": "stdout",
     "output_type": "stream",
     "text": [
      "Epoch [25/80], Step [500/500] Loss: 0.2222\n",
      "Epoch [26/80], Step [100/500] Loss: 0.0810\n",
      "Epoch [26/80], Step [200/500] Loss: 0.0803\n",
      "Epoch [26/80], Step [300/500] Loss: 0.1202\n",
      "Epoch [26/80], Step [400/500] Loss: 0.0815\n"
     ]
    },
    {
     "name": "stderr",
     "output_type": "stream",
     "text": [
      "\r",
      " 32%|███▎      | 26/80 [07:46<16:05, 17.88s/it]"
     ]
    },
    {
     "name": "stdout",
     "output_type": "stream",
     "text": [
      "Epoch [26/80], Step [500/500] Loss: 0.2169\n",
      "Epoch [27/80], Step [100/500] Loss: 0.1762\n",
      "Epoch [27/80], Step [200/500] Loss: 0.1133\n",
      "Epoch [27/80], Step [300/500] Loss: 0.1512\n",
      "Epoch [27/80], Step [400/500] Loss: 0.1301\n"
     ]
    },
    {
     "name": "stderr",
     "output_type": "stream",
     "text": [
      "\r",
      " 34%|███▍      | 27/80 [08:04<15:47, 17.89s/it]"
     ]
    },
    {
     "name": "stdout",
     "output_type": "stream",
     "text": [
      "Epoch [27/80], Step [500/500] Loss: 0.0687\n",
      "Epoch [28/80], Step [100/500] Loss: 0.0834\n",
      "Epoch [28/80], Step [200/500] Loss: 0.1566\n",
      "Epoch [28/80], Step [300/500] Loss: 0.1350\n",
      "Epoch [28/80], Step [400/500] Loss: 0.0496\n"
     ]
    },
    {
     "name": "stderr",
     "output_type": "stream",
     "text": [
      "\r",
      " 35%|███▌      | 28/80 [08:22<15:29, 17.88s/it]"
     ]
    },
    {
     "name": "stdout",
     "output_type": "stream",
     "text": [
      "Epoch [28/80], Step [500/500] Loss: 0.1205\n",
      "Epoch [29/80], Step [100/500] Loss: 0.0393\n",
      "Epoch [29/80], Step [200/500] Loss: 0.3127\n",
      "Epoch [29/80], Step [300/500] Loss: 0.1177\n",
      "Epoch [29/80], Step [400/500] Loss: 0.0891\n"
     ]
    },
    {
     "name": "stderr",
     "output_type": "stream",
     "text": [
      "\r",
      " 36%|███▋      | 29/80 [08:40<15:11, 17.88s/it]"
     ]
    },
    {
     "name": "stdout",
     "output_type": "stream",
     "text": [
      "Epoch [29/80], Step [500/500] Loss: 0.0816\n",
      "Epoch [30/80], Step [100/500] Loss: 0.0403\n",
      "Epoch [30/80], Step [200/500] Loss: 0.1925\n",
      "Epoch [30/80], Step [300/500] Loss: 0.1241\n",
      "Epoch [30/80], Step [400/500] Loss: 0.1946\n"
     ]
    },
    {
     "name": "stderr",
     "output_type": "stream",
     "text": [
      "\r",
      " 38%|███▊      | 30/80 [08:58<14:54, 17.90s/it]"
     ]
    },
    {
     "name": "stdout",
     "output_type": "stream",
     "text": [
      "Epoch [30/80], Step [500/500] Loss: 0.1125\n",
      "Epoch [31/80], Step [100/500] Loss: 0.0943\n",
      "Epoch [31/80], Step [200/500] Loss: 0.1778\n",
      "Epoch [31/80], Step [300/500] Loss: 0.1309\n",
      "Epoch [31/80], Step [400/500] Loss: 0.1279\n"
     ]
    },
    {
     "name": "stderr",
     "output_type": "stream",
     "text": [
      "\r",
      " 39%|███▉      | 31/80 [09:16<14:36, 17.89s/it]"
     ]
    },
    {
     "name": "stdout",
     "output_type": "stream",
     "text": [
      "Epoch [31/80], Step [500/500] Loss: 0.1836\n",
      "Epoch [32/80], Step [100/500] Loss: 0.0666\n",
      "Epoch [32/80], Step [200/500] Loss: 0.0939\n",
      "Epoch [32/80], Step [300/500] Loss: 0.0945\n",
      "Epoch [32/80], Step [400/500] Loss: 0.0744\n"
     ]
    },
    {
     "name": "stderr",
     "output_type": "stream",
     "text": [
      "\r",
      " 40%|████      | 32/80 [09:33<14:18, 17.89s/it]"
     ]
    },
    {
     "name": "stdout",
     "output_type": "stream",
     "text": [
      "Epoch [32/80], Step [500/500] Loss: 0.0557\n",
      "Epoch [33/80], Step [100/500] Loss: 0.1748\n",
      "Epoch [33/80], Step [200/500] Loss: 0.1021\n",
      "Epoch [33/80], Step [300/500] Loss: 0.0765\n",
      "Epoch [33/80], Step [400/500] Loss: 0.0420\n"
     ]
    },
    {
     "name": "stderr",
     "output_type": "stream",
     "text": [
      "\r",
      " 41%|████▏     | 33/80 [09:51<14:00, 17.89s/it]"
     ]
    },
    {
     "name": "stdout",
     "output_type": "stream",
     "text": [
      "Epoch [33/80], Step [500/500] Loss: 0.0919\n",
      "Epoch [34/80], Step [100/500] Loss: 0.0645\n",
      "Epoch [34/80], Step [200/500] Loss: 0.0829\n",
      "Epoch [34/80], Step [300/500] Loss: 0.1009\n",
      "Epoch [34/80], Step [400/500] Loss: 0.1196\n"
     ]
    },
    {
     "name": "stderr",
     "output_type": "stream",
     "text": [
      "\r",
      " 42%|████▎     | 34/80 [10:09<13:42, 17.89s/it]"
     ]
    },
    {
     "name": "stdout",
     "output_type": "stream",
     "text": [
      "Epoch [34/80], Step [500/500] Loss: 0.0819\n",
      "Epoch [35/80], Step [100/500] Loss: 0.0751\n",
      "Epoch [35/80], Step [200/500] Loss: 0.0702\n",
      "Epoch [35/80], Step [300/500] Loss: 0.2982\n",
      "Epoch [35/80], Step [400/500] Loss: 0.1013\n"
     ]
    },
    {
     "name": "stderr",
     "output_type": "stream",
     "text": [
      "\r",
      " 44%|████▍     | 35/80 [10:27<13:24, 17.89s/it]"
     ]
    },
    {
     "name": "stdout",
     "output_type": "stream",
     "text": [
      "Epoch [35/80], Step [500/500] Loss: 0.1082\n",
      "Epoch [36/80], Step [100/500] Loss: 0.0754\n",
      "Epoch [36/80], Step [200/500] Loss: 0.1463\n",
      "Epoch [36/80], Step [300/500] Loss: 0.1309\n",
      "Epoch [36/80], Step [400/500] Loss: 0.1185\n"
     ]
    },
    {
     "name": "stderr",
     "output_type": "stream",
     "text": [
      "\r",
      " 45%|████▌     | 36/80 [10:45<13:06, 17.88s/it]"
     ]
    },
    {
     "name": "stdout",
     "output_type": "stream",
     "text": [
      "Epoch [36/80], Step [500/500] Loss: 0.1428\n",
      "Epoch [37/80], Step [100/500] Loss: 0.0818\n",
      "Epoch [37/80], Step [200/500] Loss: 0.1063\n",
      "Epoch [37/80], Step [300/500] Loss: 0.1250\n",
      "Epoch [37/80], Step [400/500] Loss: 0.0685\n"
     ]
    },
    {
     "name": "stderr",
     "output_type": "stream",
     "text": [
      "\r",
      " 46%|████▋     | 37/80 [11:03<12:49, 17.90s/it]"
     ]
    },
    {
     "name": "stdout",
     "output_type": "stream",
     "text": [
      "Epoch [37/80], Step [500/500] Loss: 0.0795\n",
      "Epoch [38/80], Step [100/500] Loss: 0.1580\n",
      "Epoch [38/80], Step [200/500] Loss: 0.0950\n",
      "Epoch [38/80], Step [300/500] Loss: 0.0499\n",
      "Epoch [38/80], Step [400/500] Loss: 0.0412\n"
     ]
    },
    {
     "name": "stderr",
     "output_type": "stream",
     "text": [
      "\r",
      " 48%|████▊     | 38/80 [11:21<12:31, 17.89s/it]"
     ]
    },
    {
     "name": "stdout",
     "output_type": "stream",
     "text": [
      "Epoch [38/80], Step [500/500] Loss: 0.0571\n",
      "Epoch [39/80], Step [100/500] Loss: 0.0309\n",
      "Epoch [39/80], Step [200/500] Loss: 0.1461\n",
      "Epoch [39/80], Step [300/500] Loss: 0.0733\n",
      "Epoch [39/80], Step [400/500] Loss: 0.0595\n"
     ]
    },
    {
     "name": "stderr",
     "output_type": "stream",
     "text": [
      "\r",
      " 49%|████▉     | 39/80 [11:39<12:13, 17.88s/it]"
     ]
    },
    {
     "name": "stdout",
     "output_type": "stream",
     "text": [
      "Epoch [39/80], Step [500/500] Loss: 0.1214\n",
      "Epoch [40/80], Step [100/500] Loss: 0.0688\n",
      "Epoch [40/80], Step [200/500] Loss: 0.0797\n",
      "Epoch [40/80], Step [300/500] Loss: 0.1169\n",
      "Epoch [40/80], Step [400/500] Loss: 0.0785\n"
     ]
    },
    {
     "name": "stderr",
     "output_type": "stream",
     "text": [
      "\r",
      " 50%|█████     | 40/80 [11:57<11:55, 17.88s/it]"
     ]
    },
    {
     "name": "stdout",
     "output_type": "stream",
     "text": [
      "Epoch [40/80], Step [500/500] Loss: 0.1330\n",
      "Epoch [41/80], Step [100/500] Loss: 0.0222\n",
      "Epoch [41/80], Step [200/500] Loss: 0.0331\n",
      "Epoch [41/80], Step [300/500] Loss: 0.0617\n",
      "Epoch [41/80], Step [400/500] Loss: 0.0538\n"
     ]
    },
    {
     "name": "stderr",
     "output_type": "stream",
     "text": [
      "\r",
      " 51%|█████▏    | 41/80 [12:14<11:37, 17.89s/it]"
     ]
    },
    {
     "name": "stdout",
     "output_type": "stream",
     "text": [
      "Epoch [41/80], Step [500/500] Loss: 0.0683\n",
      "Epoch [42/80], Step [100/500] Loss: 0.0142\n",
      "Epoch [42/80], Step [200/500] Loss: 0.0191\n",
      "Epoch [42/80], Step [300/500] Loss: 0.0618\n",
      "Epoch [42/80], Step [400/500] Loss: 0.0452\n"
     ]
    },
    {
     "name": "stderr",
     "output_type": "stream",
     "text": [
      "\r",
      " 52%|█████▎    | 42/80 [12:32<11:19, 17.89s/it]"
     ]
    },
    {
     "name": "stdout",
     "output_type": "stream",
     "text": [
      "Epoch [42/80], Step [500/500] Loss: 0.0156\n",
      "Epoch [43/80], Step [100/500] Loss: 0.0248\n",
      "Epoch [43/80], Step [200/500] Loss: 0.1281\n",
      "Epoch [43/80], Step [300/500] Loss: 0.0122\n",
      "Epoch [43/80], Step [400/500] Loss: 0.0486\n"
     ]
    },
    {
     "name": "stderr",
     "output_type": "stream",
     "text": [
      "\r",
      " 54%|█████▍    | 43/80 [12:50<11:01, 17.89s/it]"
     ]
    },
    {
     "name": "stdout",
     "output_type": "stream",
     "text": [
      "Epoch [43/80], Step [500/500] Loss: 0.0112\n",
      "Epoch [44/80], Step [100/500] Loss: 0.0857\n",
      "Epoch [44/80], Step [200/500] Loss: 0.0283\n",
      "Epoch [44/80], Step [300/500] Loss: 0.0141\n",
      "Epoch [44/80], Step [400/500] Loss: 0.0517\n"
     ]
    },
    {
     "name": "stderr",
     "output_type": "stream",
     "text": [
      "\r",
      " 55%|█████▌    | 44/80 [13:08<10:43, 17.88s/it]"
     ]
    },
    {
     "name": "stdout",
     "output_type": "stream",
     "text": [
      "Epoch [44/80], Step [500/500] Loss: 0.0045\n",
      "Epoch [45/80], Step [100/500] Loss: 0.1082\n",
      "Epoch [45/80], Step [200/500] Loss: 0.0134\n",
      "Epoch [45/80], Step [300/500] Loss: 0.0340\n",
      "Epoch [45/80], Step [400/500] Loss: 0.0872\n"
     ]
    },
    {
     "name": "stderr",
     "output_type": "stream",
     "text": [
      "\r",
      " 56%|█████▋    | 45/80 [13:26<10:25, 17.88s/it]"
     ]
    },
    {
     "name": "stdout",
     "output_type": "stream",
     "text": [
      "Epoch [45/80], Step [500/500] Loss: 0.0782\n",
      "Epoch [46/80], Step [100/500] Loss: 0.0709\n",
      "Epoch [46/80], Step [200/500] Loss: 0.0357\n",
      "Epoch [46/80], Step [300/500] Loss: 0.0383\n",
      "Epoch [46/80], Step [400/500] Loss: 0.0280\n"
     ]
    },
    {
     "name": "stderr",
     "output_type": "stream",
     "text": [
      "\r",
      " 57%|█████▊    | 46/80 [13:44<10:07, 17.88s/it]"
     ]
    },
    {
     "name": "stdout",
     "output_type": "stream",
     "text": [
      "Epoch [46/80], Step [500/500] Loss: 0.0130\n",
      "Epoch [47/80], Step [100/500] Loss: 0.0584\n",
      "Epoch [47/80], Step [200/500] Loss: 0.0284\n",
      "Epoch [47/80], Step [300/500] Loss: 0.0407\n",
      "Epoch [47/80], Step [400/500] Loss: 0.0777\n"
     ]
    },
    {
     "name": "stderr",
     "output_type": "stream",
     "text": [
      "\r",
      " 59%|█████▉    | 47/80 [14:02<09:50, 17.88s/it]"
     ]
    },
    {
     "name": "stdout",
     "output_type": "stream",
     "text": [
      "Epoch [47/80], Step [500/500] Loss: 0.0464\n",
      "Epoch [48/80], Step [100/500] Loss: 0.1071\n",
      "Epoch [48/80], Step [200/500] Loss: 0.0216\n",
      "Epoch [48/80], Step [300/500] Loss: 0.0123\n",
      "Epoch [48/80], Step [400/500] Loss: 0.0184\n"
     ]
    },
    {
     "name": "stderr",
     "output_type": "stream",
     "text": [
      "\r",
      " 60%|██████    | 48/80 [14:20<09:32, 17.88s/it]"
     ]
    },
    {
     "name": "stdout",
     "output_type": "stream",
     "text": [
      "Epoch [48/80], Step [500/500] Loss: 0.0320\n",
      "Epoch [49/80], Step [100/500] Loss: 0.0256\n",
      "Epoch [49/80], Step [200/500] Loss: 0.0571\n",
      "Epoch [49/80], Step [300/500] Loss: 0.1409\n",
      "Epoch [49/80], Step [400/500] Loss: 0.0186\n"
     ]
    },
    {
     "name": "stderr",
     "output_type": "stream",
     "text": [
      "\r",
      " 61%|██████▏   | 49/80 [14:37<09:14, 17.88s/it]"
     ]
    },
    {
     "name": "stdout",
     "output_type": "stream",
     "text": [
      "Epoch [49/80], Step [500/500] Loss: 0.0064\n",
      "Epoch [50/80], Step [100/500] Loss: 0.0006\n",
      "Epoch [50/80], Step [200/500] Loss: 0.0051\n",
      "Epoch [50/80], Step [300/500] Loss: 0.0818\n",
      "Epoch [50/80], Step [400/500] Loss: 0.0035\n"
     ]
    },
    {
     "name": "stderr",
     "output_type": "stream",
     "text": [
      "\r",
      " 62%|██████▎   | 50/80 [14:55<08:56, 17.87s/it]"
     ]
    },
    {
     "name": "stdout",
     "output_type": "stream",
     "text": [
      "Epoch [50/80], Step [500/500] Loss: 0.0153\n",
      "Epoch [51/80], Step [100/500] Loss: 0.0095\n",
      "Epoch [51/80], Step [200/500] Loss: 0.0178\n",
      "Epoch [51/80], Step [300/500] Loss: 0.0320\n",
      "Epoch [51/80], Step [400/500] Loss: 0.0142\n"
     ]
    },
    {
     "name": "stderr",
     "output_type": "stream",
     "text": [
      "\r",
      " 64%|██████▍   | 51/80 [15:13<08:38, 17.87s/it]"
     ]
    },
    {
     "name": "stdout",
     "output_type": "stream",
     "text": [
      "Epoch [51/80], Step [500/500] Loss: 0.0733\n",
      "Epoch [52/80], Step [100/500] Loss: 0.0341\n",
      "Epoch [52/80], Step [200/500] Loss: 0.0094\n",
      "Epoch [52/80], Step [300/500] Loss: 0.0092\n",
      "Epoch [52/80], Step [400/500] Loss: 0.0159\n"
     ]
    },
    {
     "name": "stderr",
     "output_type": "stream",
     "text": [
      "\r",
      " 65%|██████▌   | 52/80 [15:31<08:20, 17.86s/it]"
     ]
    },
    {
     "name": "stdout",
     "output_type": "stream",
     "text": [
      "Epoch [52/80], Step [500/500] Loss: 0.0125\n",
      "Epoch [53/80], Step [100/500] Loss: 0.0187\n",
      "Epoch [53/80], Step [200/500] Loss: 0.0211\n",
      "Epoch [53/80], Step [300/500] Loss: 0.0676\n",
      "Epoch [53/80], Step [400/500] Loss: 0.0532\n"
     ]
    },
    {
     "name": "stderr",
     "output_type": "stream",
     "text": [
      "\r",
      " 66%|██████▋   | 53/80 [15:49<08:02, 17.87s/it]"
     ]
    },
    {
     "name": "stdout",
     "output_type": "stream",
     "text": [
      "Epoch [53/80], Step [500/500] Loss: 0.0060\n",
      "Epoch [54/80], Step [100/500] Loss: 0.0190\n",
      "Epoch [54/80], Step [200/500] Loss: 0.0557\n",
      "Epoch [54/80], Step [300/500] Loss: 0.0741\n",
      "Epoch [54/80], Step [400/500] Loss: 0.1048\n"
     ]
    },
    {
     "name": "stderr",
     "output_type": "stream",
     "text": [
      "\r",
      " 68%|██████▊   | 54/80 [16:07<07:44, 17.87s/it]"
     ]
    },
    {
     "name": "stdout",
     "output_type": "stream",
     "text": [
      "Epoch [54/80], Step [500/500] Loss: 0.0237\n",
      "Epoch [55/80], Step [100/500] Loss: 0.0504\n",
      "Epoch [55/80], Step [200/500] Loss: 0.0341\n",
      "Epoch [55/80], Step [300/500] Loss: 0.0698\n",
      "Epoch [55/80], Step [400/500] Loss: 0.0147\n"
     ]
    },
    {
     "name": "stderr",
     "output_type": "stream",
     "text": [
      "\r",
      " 69%|██████▉   | 55/80 [16:25<07:26, 17.88s/it]"
     ]
    },
    {
     "name": "stdout",
     "output_type": "stream",
     "text": [
      "Epoch [55/80], Step [500/500] Loss: 0.0669\n",
      "Epoch [56/80], Step [100/500] Loss: 0.0320\n",
      "Epoch [56/80], Step [200/500] Loss: 0.0074\n",
      "Epoch [56/80], Step [300/500] Loss: 0.0295\n",
      "Epoch [56/80], Step [400/500] Loss: 0.0458\n"
     ]
    },
    {
     "name": "stderr",
     "output_type": "stream",
     "text": [
      "\r",
      " 70%|███████   | 56/80 [16:43<07:08, 17.87s/it]"
     ]
    },
    {
     "name": "stdout",
     "output_type": "stream",
     "text": [
      "Epoch [56/80], Step [500/500] Loss: 0.0117\n",
      "Epoch [57/80], Step [100/500] Loss: 0.0909\n",
      "Epoch [57/80], Step [200/500] Loss: 0.0030\n",
      "Epoch [57/80], Step [300/500] Loss: 0.0102\n",
      "Epoch [57/80], Step [400/500] Loss: 0.0120\n"
     ]
    },
    {
     "name": "stderr",
     "output_type": "stream",
     "text": [
      "\r",
      " 71%|███████▏  | 57/80 [17:00<06:51, 17.87s/it]"
     ]
    },
    {
     "name": "stdout",
     "output_type": "stream",
     "text": [
      "Epoch [57/80], Step [500/500] Loss: 0.0139\n",
      "Epoch [58/80], Step [100/500] Loss: 0.0154\n",
      "Epoch [58/80], Step [200/500] Loss: 0.0095\n",
      "Epoch [58/80], Step [300/500] Loss: 0.0094\n",
      "Epoch [58/80], Step [400/500] Loss: 0.0361\n"
     ]
    },
    {
     "name": "stderr",
     "output_type": "stream",
     "text": [
      "\r",
      " 72%|███████▎  | 58/80 [17:18<06:33, 17.88s/it]"
     ]
    },
    {
     "name": "stdout",
     "output_type": "stream",
     "text": [
      "Epoch [58/80], Step [500/500] Loss: 0.0102\n",
      "Epoch [59/80], Step [100/500] Loss: 0.0770\n",
      "Epoch [59/80], Step [200/500] Loss: 0.0349\n",
      "Epoch [59/80], Step [300/500] Loss: 0.0106\n",
      "Epoch [59/80], Step [400/500] Loss: 0.0101\n"
     ]
    },
    {
     "name": "stderr",
     "output_type": "stream",
     "text": [
      "\r",
      " 74%|███████▍  | 59/80 [17:36<06:15, 17.88s/it]"
     ]
    },
    {
     "name": "stdout",
     "output_type": "stream",
     "text": [
      "Epoch [59/80], Step [500/500] Loss: 0.0366\n",
      "Epoch [60/80], Step [100/500] Loss: 0.0338\n",
      "Epoch [60/80], Step [200/500] Loss: 0.0198\n",
      "Epoch [60/80], Step [300/500] Loss: 0.0118\n",
      "Epoch [60/80], Step [400/500] Loss: 0.1234\n"
     ]
    },
    {
     "name": "stderr",
     "output_type": "stream",
     "text": [
      "\r",
      " 75%|███████▌  | 60/80 [17:54<05:57, 17.87s/it]"
     ]
    },
    {
     "name": "stdout",
     "output_type": "stream",
     "text": [
      "Epoch [60/80], Step [500/500] Loss: 0.0121\n",
      "Epoch [61/80], Step [100/500] Loss: 0.0186\n",
      "Epoch [61/80], Step [200/500] Loss: 0.0097\n",
      "Epoch [61/80], Step [300/500] Loss: 0.0224\n",
      "Epoch [61/80], Step [400/500] Loss: 0.0154\n"
     ]
    },
    {
     "name": "stderr",
     "output_type": "stream",
     "text": [
      "\r",
      " 76%|███████▋  | 61/80 [18:12<05:39, 17.87s/it]"
     ]
    },
    {
     "name": "stdout",
     "output_type": "stream",
     "text": [
      "Epoch [61/80], Step [500/500] Loss: 0.0193\n",
      "Epoch [62/80], Step [100/500] Loss: 0.0218\n",
      "Epoch [62/80], Step [200/500] Loss: 0.0375\n",
      "Epoch [62/80], Step [300/500] Loss: 0.0012\n",
      "Epoch [62/80], Step [400/500] Loss: 0.0185\n"
     ]
    },
    {
     "name": "stderr",
     "output_type": "stream",
     "text": [
      "\r",
      " 78%|███████▊  | 62/80 [18:30<05:21, 17.87s/it]"
     ]
    },
    {
     "name": "stdout",
     "output_type": "stream",
     "text": [
      "Epoch [62/80], Step [500/500] Loss: 0.0411\n",
      "Epoch [63/80], Step [100/500] Loss: 0.0265\n",
      "Epoch [63/80], Step [200/500] Loss: 0.0045\n",
      "Epoch [63/80], Step [300/500] Loss: 0.0240\n",
      "Epoch [63/80], Step [400/500] Loss: 0.0003\n"
     ]
    },
    {
     "name": "stderr",
     "output_type": "stream",
     "text": [
      "\r",
      " 79%|███████▉  | 63/80 [18:48<05:04, 17.88s/it]"
     ]
    },
    {
     "name": "stdout",
     "output_type": "stream",
     "text": [
      "Epoch [63/80], Step [500/500] Loss: 0.0051\n",
      "Epoch [64/80], Step [100/500] Loss: 0.0138\n",
      "Epoch [64/80], Step [200/500] Loss: 0.0054\n",
      "Epoch [64/80], Step [300/500] Loss: 0.0140\n",
      "Epoch [64/80], Step [400/500] Loss: 0.0117\n"
     ]
    },
    {
     "name": "stderr",
     "output_type": "stream",
     "text": [
      "\r",
      " 80%|████████  | 64/80 [19:06<04:46, 17.88s/it]"
     ]
    },
    {
     "name": "stdout",
     "output_type": "stream",
     "text": [
      "Epoch [64/80], Step [500/500] Loss: 0.0078\n",
      "Epoch [65/80], Step [100/500] Loss: 0.0177\n",
      "Epoch [65/80], Step [200/500] Loss: 0.0024\n",
      "Epoch [65/80], Step [300/500] Loss: 0.0454\n",
      "Epoch [65/80], Step [400/500] Loss: 0.0051\n"
     ]
    },
    {
     "name": "stderr",
     "output_type": "stream",
     "text": [
      "\r",
      " 81%|████████▏ | 65/80 [19:23<04:28, 17.88s/it]"
     ]
    },
    {
     "name": "stdout",
     "output_type": "stream",
     "text": [
      "Epoch [65/80], Step [500/500] Loss: 0.0043\n",
      "Epoch [66/80], Step [100/500] Loss: 0.0063\n",
      "Epoch [66/80], Step [200/500] Loss: 0.0578\n",
      "Epoch [66/80], Step [300/500] Loss: 0.0121\n",
      "Epoch [66/80], Step [400/500] Loss: 0.0023\n"
     ]
    },
    {
     "name": "stderr",
     "output_type": "stream",
     "text": [
      "\r",
      " 82%|████████▎ | 66/80 [19:41<04:10, 17.88s/it]"
     ]
    },
    {
     "name": "stdout",
     "output_type": "stream",
     "text": [
      "Epoch [66/80], Step [500/500] Loss: 0.0124\n",
      "Epoch [67/80], Step [100/500] Loss: 0.0305\n",
      "Epoch [67/80], Step [200/500] Loss: 0.0197\n",
      "Epoch [67/80], Step [300/500] Loss: 0.0044\n",
      "Epoch [67/80], Step [400/500] Loss: 0.0185\n"
     ]
    },
    {
     "name": "stderr",
     "output_type": "stream",
     "text": [
      "\r",
      " 84%|████████▍ | 67/80 [19:59<03:52, 17.87s/it]"
     ]
    },
    {
     "name": "stdout",
     "output_type": "stream",
     "text": [
      "Epoch [67/80], Step [500/500] Loss: 0.0085\n",
      "Epoch [68/80], Step [100/500] Loss: 0.0296\n",
      "Epoch [68/80], Step [200/500] Loss: 0.0038\n",
      "Epoch [68/80], Step [300/500] Loss: 0.0247\n",
      "Epoch [68/80], Step [400/500] Loss: 0.0193\n"
     ]
    },
    {
     "name": "stderr",
     "output_type": "stream",
     "text": [
      "\r",
      " 85%|████████▌ | 68/80 [20:17<03:34, 17.88s/it]"
     ]
    },
    {
     "name": "stdout",
     "output_type": "stream",
     "text": [
      "Epoch [68/80], Step [500/500] Loss: 0.0006\n",
      "Epoch [69/80], Step [100/500] Loss: 0.0177\n",
      "Epoch [69/80], Step [200/500] Loss: 0.0028\n",
      "Epoch [69/80], Step [300/500] Loss: 0.0407\n",
      "Epoch [69/80], Step [400/500] Loss: 0.0234\n"
     ]
    },
    {
     "name": "stderr",
     "output_type": "stream",
     "text": [
      "\r",
      " 86%|████████▋ | 69/80 [20:35<03:16, 17.88s/it]"
     ]
    },
    {
     "name": "stdout",
     "output_type": "stream",
     "text": [
      "Epoch [69/80], Step [500/500] Loss: 0.0456\n",
      "Epoch [70/80], Step [100/500] Loss: 0.0023\n",
      "Epoch [70/80], Step [200/500] Loss: 0.0022\n",
      "Epoch [70/80], Step [300/500] Loss: 0.0010\n",
      "Epoch [70/80], Step [400/500] Loss: 0.0071\n"
     ]
    },
    {
     "name": "stderr",
     "output_type": "stream",
     "text": [
      "\r",
      " 88%|████████▊ | 70/80 [20:53<02:58, 17.89s/it]"
     ]
    },
    {
     "name": "stdout",
     "output_type": "stream",
     "text": [
      "Epoch [70/80], Step [500/500] Loss: 0.0072\n",
      "Epoch [71/80], Step [100/500] Loss: 0.0011\n",
      "Epoch [71/80], Step [200/500] Loss: 0.0128\n",
      "Epoch [71/80], Step [300/500] Loss: 0.0234\n",
      "Epoch [71/80], Step [400/500] Loss: 0.0156\n"
     ]
    },
    {
     "name": "stderr",
     "output_type": "stream",
     "text": [
      "\r",
      " 89%|████████▉ | 71/80 [21:11<02:40, 17.87s/it]"
     ]
    },
    {
     "name": "stdout",
     "output_type": "stream",
     "text": [
      "Epoch [71/80], Step [500/500] Loss: 0.0034\n",
      "Epoch [72/80], Step [100/500] Loss: 0.0091\n",
      "Epoch [72/80], Step [200/500] Loss: 0.0763\n",
      "Epoch [72/80], Step [300/500] Loss: 0.0055\n",
      "Epoch [72/80], Step [400/500] Loss: 0.0182\n"
     ]
    },
    {
     "name": "stderr",
     "output_type": "stream",
     "text": [
      "\r",
      " 90%|█████████ | 72/80 [21:29<02:22, 17.87s/it]"
     ]
    },
    {
     "name": "stdout",
     "output_type": "stream",
     "text": [
      "Epoch [72/80], Step [500/500] Loss: 0.0360\n",
      "Epoch [73/80], Step [100/500] Loss: 0.0179\n",
      "Epoch [73/80], Step [200/500] Loss: 0.0063\n",
      "Epoch [73/80], Step [300/500] Loss: 0.0014\n",
      "Epoch [73/80], Step [400/500] Loss: 0.0139\n"
     ]
    },
    {
     "name": "stderr",
     "output_type": "stream",
     "text": [
      "\r",
      " 91%|█████████▏| 73/80 [21:46<02:05, 17.87s/it]"
     ]
    },
    {
     "name": "stdout",
     "output_type": "stream",
     "text": [
      "Epoch [73/80], Step [500/500] Loss: 0.0020\n",
      "Epoch [74/80], Step [100/500] Loss: 0.0267\n",
      "Epoch [74/80], Step [200/500] Loss: 0.0079\n",
      "Epoch [74/80], Step [300/500] Loss: 0.0110\n",
      "Epoch [74/80], Step [400/500] Loss: 0.0575\n"
     ]
    },
    {
     "name": "stderr",
     "output_type": "stream",
     "text": [
      "\r",
      " 92%|█████████▎| 74/80 [22:04<01:47, 17.90s/it]"
     ]
    },
    {
     "name": "stdout",
     "output_type": "stream",
     "text": [
      "Epoch [74/80], Step [500/500] Loss: 0.0006\n",
      "Epoch [75/80], Step [100/500] Loss: 0.0305\n",
      "Epoch [75/80], Step [200/500] Loss: 0.0058\n",
      "Epoch [75/80], Step [300/500] Loss: 0.0094\n",
      "Epoch [75/80], Step [400/500] Loss: 0.0079\n"
     ]
    },
    {
     "name": "stderr",
     "output_type": "stream",
     "text": [
      "\r",
      " 94%|█████████▍| 75/80 [22:22<01:29, 17.89s/it]"
     ]
    },
    {
     "name": "stdout",
     "output_type": "stream",
     "text": [
      "Epoch [75/80], Step [500/500] Loss: 0.0036\n",
      "Epoch [76/80], Step [100/500] Loss: 0.0031\n",
      "Epoch [76/80], Step [200/500] Loss: 0.0017\n",
      "Epoch [76/80], Step [300/500] Loss: 0.0251\n",
      "Epoch [76/80], Step [400/500] Loss: 0.0016\n"
     ]
    },
    {
     "name": "stderr",
     "output_type": "stream",
     "text": [
      "\r",
      " 95%|█████████▌| 76/80 [22:40<01:11, 17.88s/it]"
     ]
    },
    {
     "name": "stdout",
     "output_type": "stream",
     "text": [
      "Epoch [76/80], Step [500/500] Loss: 0.0007\n",
      "Epoch [77/80], Step [100/500] Loss: 0.0105\n",
      "Epoch [77/80], Step [200/500] Loss: 0.0250\n",
      "Epoch [77/80], Step [300/500] Loss: 0.0081\n",
      "Epoch [77/80], Step [400/500] Loss: 0.0097\n"
     ]
    },
    {
     "name": "stderr",
     "output_type": "stream",
     "text": [
      "\r",
      " 96%|█████████▋| 77/80 [22:58<00:53, 17.88s/it]"
     ]
    },
    {
     "name": "stdout",
     "output_type": "stream",
     "text": [
      "Epoch [77/80], Step [500/500] Loss: 0.0012\n",
      "Epoch [78/80], Step [100/500] Loss: 0.0050\n",
      "Epoch [78/80], Step [200/500] Loss: 0.0008\n",
      "Epoch [78/80], Step [300/500] Loss: 0.0011\n",
      "Epoch [78/80], Step [400/500] Loss: 0.0016\n"
     ]
    },
    {
     "name": "stderr",
     "output_type": "stream",
     "text": [
      "\r",
      " 98%|█████████▊| 78/80 [23:16<00:35, 17.87s/it]"
     ]
    },
    {
     "name": "stdout",
     "output_type": "stream",
     "text": [
      "Epoch [78/80], Step [500/500] Loss: 0.0009\n",
      "Epoch [79/80], Step [100/500] Loss: 0.0493\n",
      "Epoch [79/80], Step [200/500] Loss: 0.0010\n",
      "Epoch [79/80], Step [300/500] Loss: 0.0015\n",
      "Epoch [79/80], Step [400/500] Loss: 0.0615\n"
     ]
    },
    {
     "name": "stderr",
     "output_type": "stream",
     "text": [
      "\r",
      " 99%|█████████▉| 79/80 [23:34<00:17, 17.88s/it]"
     ]
    },
    {
     "name": "stdout",
     "output_type": "stream",
     "text": [
      "Epoch [79/80], Step [500/500] Loss: 0.0128\n",
      "Epoch [80/80], Step [100/500] Loss: 0.0035\n",
      "Epoch [80/80], Step [200/500] Loss: 0.0390\n",
      "Epoch [80/80], Step [300/500] Loss: 0.0085\n",
      "Epoch [80/80], Step [400/500] Loss: 0.0105\n"
     ]
    },
    {
     "name": "stderr",
     "output_type": "stream",
     "text": [
      "100%|██████████| 80/80 [23:52<00:00, 17.90s/it]"
     ]
    },
    {
     "name": "stdout",
     "output_type": "stream",
     "text": [
      "Epoch [80/80], Step [500/500] Loss: 0.0133\n"
     ]
    },
    {
     "name": "stderr",
     "output_type": "stream",
     "text": [
      "\n"
     ]
    },
    {
     "name": "stdout",
     "output_type": "stream",
     "text": [
      "Accuracy of the model on the test images: 90.43 %\n"
     ]
    },
    {
     "data": {
      "text/html": [
       "<br/>Waiting for W&B process to finish, PID 1887521<br/>Program ended successfully."
      ],
      "text/plain": [
       "<IPython.core.display.HTML object>"
      ]
     },
     "metadata": {},
     "output_type": "display_data"
    },
    {
     "data": {
      "application/vnd.jupyter.widget-view+json": {
       "model_id": "",
       "version_major": 2,
       "version_minor": 0
      },
      "text/plain": [
       "VBox(children=(Label(value=' 0.00MB of 0.00MB uploaded (0.00MB deduped)\\r'), FloatProgress(value=1.0, max=1.0)…"
      ]
     },
     "metadata": {},
     "output_type": "display_data"
    },
    {
     "data": {
      "text/html": [
       "Find user logs for this run at: <code>/home/teghub/Documents/PyTorch_CIFAR10-master/wandb/run-20220113_144107-mmv6v1vm/logs/debug.log</code>"
      ],
      "text/plain": [
       "<IPython.core.display.HTML object>"
      ]
     },
     "metadata": {},
     "output_type": "display_data"
    },
    {
     "data": {
      "text/html": [
       "Find internal logs for this run at: <code>/home/teghub/Documents/PyTorch_CIFAR10-master/wandb/run-20220113_144107-mmv6v1vm/logs/debug-internal.log</code>"
      ],
      "text/plain": [
       "<IPython.core.display.HTML object>"
      ]
     },
     "metadata": {},
     "output_type": "display_data"
    },
    {
     "data": {
      "text/html": [
       "<h3>Run summary:</h3><br/><style>\n",
       "    table.wandb td:nth-child(1) { padding: 0 10px; text-align: right }\n",
       "    </style><table class=\"wandb\">\n",
       "<tr><td>Epoch</td><td>80</td></tr><tr><td>Loss</td><td>0.01325</td></tr><tr><td>_runtime</td><td>1435</td></tr><tr><td>_timestamp</td><td>1642075502</td></tr><tr><td>_step</td><td>399</td></tr></table>"
      ],
      "text/plain": [
       "<IPython.core.display.HTML object>"
      ]
     },
     "metadata": {},
     "output_type": "display_data"
    },
    {
     "data": {
      "text/html": [
       "<h3>Run history:</h3><br/><style>\n",
       "    table.wandb td:nth-child(1) { padding: 0 10px; text-align: right }\n",
       "    </style><table class=\"wandb\">\n",
       "<tr><td>Epoch</td><td>▁▁▁▂▂▂▂▂▂▃▃▃▃▃▃▄▄▄▄▄▅▅▅▅▅▆▆▆▆▆▆▇▇▇▇▇▇███</td></tr><tr><td>Loss</td><td>█▅▄▃▄▄▃▃▃▂▂▂▂▁▁▁▁▁▁▁▁▁▁▁▁▁▁▁▁▁▁▁▁▁▁▁▁▁▁▁</td></tr><tr><td>_runtime</td><td>▁▁▁▁▂▂▂▂▂▃▃▃▃▃▃▄▄▄▄▄▅▅▅▅▅▅▆▆▆▆▆▇▇▇▇▇▇███</td></tr><tr><td>_timestamp</td><td>▁▁▁▁▂▂▂▂▂▃▃▃▃▃▃▄▄▄▄▄▅▅▅▅▅▅▆▆▆▆▆▇▇▇▇▇▇███</td></tr><tr><td>_step</td><td>▁▁▁▁▂▂▂▂▂▃▃▃▃▃▃▄▄▄▄▄▅▅▅▅▅▅▆▆▆▆▆▇▇▇▇▇▇███</td></tr></table><br/>"
      ],
      "text/plain": [
       "<IPython.core.display.HTML object>"
      ]
     },
     "metadata": {},
     "output_type": "display_data"
    },
    {
     "data": {
      "text/html": [
       "Synced 5 W&B file(s), 0 media file(s), 0 artifact file(s) and 0 other file(s)"
      ],
      "text/plain": [
       "<IPython.core.display.HTML object>"
      ]
     },
     "metadata": {},
     "output_type": "display_data"
    },
    {
     "data": {
      "text/html": [
       "\n",
       "                    <br/>Synced <strong style=\"color:#cdcd00\">copper-sweep-2</strong>: <a href=\"https://wandb.ai/firatc/mmi712-term-project/runs/mmv6v1vm\" target=\"_blank\">https://wandb.ai/firatc/mmi712-term-project/runs/mmv6v1vm</a><br/>\n",
       "                "
      ],
      "text/plain": [
       "<IPython.core.display.HTML object>"
      ]
     },
     "metadata": {},
     "output_type": "display_data"
    },
    {
     "name": "stderr",
     "output_type": "stream",
     "text": [
      "\u001b[34m\u001b[1mwandb\u001b[0m: Sweep Agent: Waiting for job.\n",
      "\u001b[34m\u001b[1mwandb\u001b[0m: Sweep Agent: Exiting.\n"
     ]
    }
   ],
   "source": [
    "wandb.agent(sweep_id, init_model)"
   ]
  },
  {
   "cell_type": "markdown",
   "id": "10e504ea",
   "metadata": {},
   "source": [
    "# Pruning"
   ]
  },
  {
   "cell_type": "code",
   "execution_count": 15,
   "id": "b220dc7c",
   "metadata": {},
   "outputs": [
    {
     "data": {
      "text/plain": [
       "<bound method Module.modules of ResNet(\n",
       "  (conv1): Conv2d(3, 64, kernel_size=(3, 3), stride=(1, 1), padding=(1, 1), bias=False)\n",
       "  (bn1): BatchNorm2d(64, eps=1e-05, momentum=0.1, affine=True, track_running_stats=True)\n",
       "  (relu): ReLU(inplace=True)\n",
       "  (maxpool): MaxPool2d(kernel_size=3, stride=2, padding=1, dilation=1, ceil_mode=False)\n",
       "  (layer1): Sequential(\n",
       "    (0): BasicBlock(\n",
       "      (conv1): Conv2d(64, 64, kernel_size=(3, 3), stride=(1, 1), padding=(1, 1), bias=False)\n",
       "      (bn1): BatchNorm2d(64, eps=1e-05, momentum=0.1, affine=True, track_running_stats=True)\n",
       "      (relu): ReLU(inplace=True)\n",
       "      (conv2): Conv2d(64, 64, kernel_size=(3, 3), stride=(1, 1), padding=(1, 1), bias=False)\n",
       "      (bn2): BatchNorm2d(64, eps=1e-05, momentum=0.1, affine=True, track_running_stats=True)\n",
       "    )\n",
       "    (1): BasicBlock(\n",
       "      (conv1): Conv2d(64, 64, kernel_size=(3, 3), stride=(1, 1), padding=(1, 1), bias=False)\n",
       "      (bn1): BatchNorm2d(64, eps=1e-05, momentum=0.1, affine=True, track_running_stats=True)\n",
       "      (relu): ReLU(inplace=True)\n",
       "      (conv2): Conv2d(64, 64, kernel_size=(3, 3), stride=(1, 1), padding=(1, 1), bias=False)\n",
       "      (bn2): BatchNorm2d(64, eps=1e-05, momentum=0.1, affine=True, track_running_stats=True)\n",
       "    )\n",
       "  )\n",
       "  (layer2): Sequential(\n",
       "    (0): BasicBlock(\n",
       "      (conv1): Conv2d(64, 128, kernel_size=(3, 3), stride=(2, 2), padding=(1, 1), bias=False)\n",
       "      (bn1): BatchNorm2d(128, eps=1e-05, momentum=0.1, affine=True, track_running_stats=True)\n",
       "      (relu): ReLU(inplace=True)\n",
       "      (conv2): Conv2d(128, 128, kernel_size=(3, 3), stride=(1, 1), padding=(1, 1), bias=False)\n",
       "      (bn2): BatchNorm2d(128, eps=1e-05, momentum=0.1, affine=True, track_running_stats=True)\n",
       "      (downsample): Sequential(\n",
       "        (0): Conv2d(64, 128, kernel_size=(1, 1), stride=(2, 2), bias=False)\n",
       "        (1): BatchNorm2d(128, eps=1e-05, momentum=0.1, affine=True, track_running_stats=True)\n",
       "      )\n",
       "    )\n",
       "    (1): BasicBlock(\n",
       "      (conv1): Conv2d(128, 128, kernel_size=(3, 3), stride=(1, 1), padding=(1, 1), bias=False)\n",
       "      (bn1): BatchNorm2d(128, eps=1e-05, momentum=0.1, affine=True, track_running_stats=True)\n",
       "      (relu): ReLU(inplace=True)\n",
       "      (conv2): Conv2d(128, 128, kernel_size=(3, 3), stride=(1, 1), padding=(1, 1), bias=False)\n",
       "      (bn2): BatchNorm2d(128, eps=1e-05, momentum=0.1, affine=True, track_running_stats=True)\n",
       "    )\n",
       "  )\n",
       "  (layer3): Sequential(\n",
       "    (0): BasicBlock(\n",
       "      (conv1): Conv2d(128, 256, kernel_size=(3, 3), stride=(2, 2), padding=(1, 1), bias=False)\n",
       "      (bn1): BatchNorm2d(256, eps=1e-05, momentum=0.1, affine=True, track_running_stats=True)\n",
       "      (relu): ReLU(inplace=True)\n",
       "      (conv2): Conv2d(256, 256, kernel_size=(3, 3), stride=(1, 1), padding=(1, 1), bias=False)\n",
       "      (bn2): BatchNorm2d(256, eps=1e-05, momentum=0.1, affine=True, track_running_stats=True)\n",
       "      (downsample): Sequential(\n",
       "        (0): Conv2d(128, 256, kernel_size=(1, 1), stride=(2, 2), bias=False)\n",
       "        (1): BatchNorm2d(256, eps=1e-05, momentum=0.1, affine=True, track_running_stats=True)\n",
       "      )\n",
       "    )\n",
       "    (1): BasicBlock(\n",
       "      (conv1): Conv2d(256, 256, kernel_size=(3, 3), stride=(1, 1), padding=(1, 1), bias=False)\n",
       "      (bn1): BatchNorm2d(256, eps=1e-05, momentum=0.1, affine=True, track_running_stats=True)\n",
       "      (relu): ReLU(inplace=True)\n",
       "      (conv2): Conv2d(256, 256, kernel_size=(3, 3), stride=(1, 1), padding=(1, 1), bias=False)\n",
       "      (bn2): BatchNorm2d(256, eps=1e-05, momentum=0.1, affine=True, track_running_stats=True)\n",
       "    )\n",
       "  )\n",
       "  (layer4): Sequential(\n",
       "    (0): BasicBlock(\n",
       "      (conv1): Conv2d(256, 512, kernel_size=(3, 3), stride=(2, 2), padding=(1, 1), bias=False)\n",
       "      (bn1): BatchNorm2d(512, eps=1e-05, momentum=0.1, affine=True, track_running_stats=True)\n",
       "      (relu): ReLU(inplace=True)\n",
       "      (conv2): Conv2d(512, 512, kernel_size=(3, 3), stride=(1, 1), padding=(1, 1), bias=False)\n",
       "      (bn2): BatchNorm2d(512, eps=1e-05, momentum=0.1, affine=True, track_running_stats=True)\n",
       "      (downsample): Sequential(\n",
       "        (0): Conv2d(256, 512, kernel_size=(1, 1), stride=(2, 2), bias=False)\n",
       "        (1): BatchNorm2d(512, eps=1e-05, momentum=0.1, affine=True, track_running_stats=True)\n",
       "      )\n",
       "    )\n",
       "    (1): BasicBlock(\n",
       "      (conv1): Conv2d(512, 512, kernel_size=(3, 3), stride=(1, 1), padding=(1, 1), bias=False)\n",
       "      (bn1): BatchNorm2d(512, eps=1e-05, momentum=0.1, affine=True, track_running_stats=True)\n",
       "      (relu): ReLU(inplace=True)\n",
       "      (conv2): Conv2d(512, 512, kernel_size=(3, 3), stride=(1, 1), padding=(1, 1), bias=False)\n",
       "      (bn2): BatchNorm2d(512, eps=1e-05, momentum=0.1, affine=True, track_running_stats=True)\n",
       "    )\n",
       "  )\n",
       "  (avgpool): AdaptiveAvgPool2d(output_size=(1, 1))\n",
       "  (fc): Linear(in_features=512, out_features=10, bias=True)\n",
       ")>"
      ]
     },
     "execution_count": 15,
     "metadata": {},
     "output_type": "execute_result"
    }
   ],
   "source": [
    "model.modules"
   ]
  },
  {
   "cell_type": "code",
   "execution_count": 16,
   "id": "f1b9883c",
   "metadata": {},
   "outputs": [
    {
     "name": "stdout",
     "output_type": "stream",
     "text": [
      "conv1 Conv2d(3, 64, kernel_size=(3, 3), stride=(1, 1), padding=(1, 1), bias=False)\n",
      "layer1.0.conv1 Conv2d(64, 64, kernel_size=(3, 3), stride=(1, 1), padding=(1, 1), bias=False)\n",
      "layer1.0.conv2 Conv2d(64, 64, kernel_size=(3, 3), stride=(1, 1), padding=(1, 1), bias=False)\n",
      "layer1.1.conv1 Conv2d(64, 64, kernel_size=(3, 3), stride=(1, 1), padding=(1, 1), bias=False)\n",
      "layer1.1.conv2 Conv2d(64, 64, kernel_size=(3, 3), stride=(1, 1), padding=(1, 1), bias=False)\n",
      "layer2.0.conv1 Conv2d(64, 128, kernel_size=(3, 3), stride=(2, 2), padding=(1, 1), bias=False)\n",
      "layer2.0.conv2 Conv2d(128, 128, kernel_size=(3, 3), stride=(1, 1), padding=(1, 1), bias=False)\n",
      "layer2.0.downsample.0 Conv2d(64, 128, kernel_size=(1, 1), stride=(2, 2), bias=False)\n",
      "layer2.1.conv1 Conv2d(128, 128, kernel_size=(3, 3), stride=(1, 1), padding=(1, 1), bias=False)\n",
      "layer2.1.conv2 Conv2d(128, 128, kernel_size=(3, 3), stride=(1, 1), padding=(1, 1), bias=False)\n",
      "layer3.0.conv1 Conv2d(128, 256, kernel_size=(3, 3), stride=(2, 2), padding=(1, 1), bias=False)\n",
      "layer3.0.conv2 Conv2d(256, 256, kernel_size=(3, 3), stride=(1, 1), padding=(1, 1), bias=False)\n",
      "layer3.0.downsample.0 Conv2d(128, 256, kernel_size=(1, 1), stride=(2, 2), bias=False)\n",
      "layer3.1.conv1 Conv2d(256, 256, kernel_size=(3, 3), stride=(1, 1), padding=(1, 1), bias=False)\n",
      "layer3.1.conv2 Conv2d(256, 256, kernel_size=(3, 3), stride=(1, 1), padding=(1, 1), bias=False)\n",
      "layer4.0.conv1 Conv2d(256, 512, kernel_size=(3, 3), stride=(2, 2), padding=(1, 1), bias=False)\n",
      "layer4.0.conv2 Conv2d(512, 512, kernel_size=(3, 3), stride=(1, 1), padding=(1, 1), bias=False)\n",
      "layer4.0.downsample.0 Conv2d(256, 512, kernel_size=(1, 1), stride=(2, 2), bias=False)\n",
      "layer4.1.conv1 Conv2d(512, 512, kernel_size=(3, 3), stride=(1, 1), padding=(1, 1), bias=False)\n",
      "layer4.1.conv2 Conv2d(512, 512, kernel_size=(3, 3), stride=(1, 1), padding=(1, 1), bias=False)\n",
      "fc Linear(in_features=512, out_features=10, bias=True)\n"
     ]
    }
   ],
   "source": [
    "prune_modules = []\n",
    "for name, module in model.named_modules():\n",
    "    if isinstance(module, torch.nn.Conv2d):\n",
    "        print(name, module)\n",
    "        if \"downsample\" not in name:\n",
    "            prune_modules.append(name)\n",
    "    # prune 40% of connections in all linear layers\n",
    "    elif isinstance(module, torch.nn.Linear):\n",
    "        print(name, module)\n",
    "        prune_modules.append(name)"
   ]
  },
  {
   "cell_type": "code",
   "execution_count": 9,
   "id": "9e7cda6e",
   "metadata": {},
   "outputs": [],
   "source": [
    "def getParams(model):\n",
    "    parameters_to_prune = (\n",
    "        (model.conv1, 'weight'),\n",
    "        (model.layer1[0].conv1, 'weight'),\n",
    "        (model.layer1[0].conv2, 'weight'),\n",
    "        (model.layer1[1].conv1, 'weight'),\n",
    "        (model.layer1[1].conv2, 'weight'),\n",
    "        (model.layer2[0].conv1, 'weight'),\n",
    "        (model.layer2[0].conv2, 'weight'),\n",
    "        (model.layer2[1].conv1, 'weight'),\n",
    "        (model.layer2[1].conv2, 'weight'),\n",
    "        (model.layer3[0].conv1, 'weight'),\n",
    "        (model.layer3[0].conv2, 'weight'),\n",
    "        (model.layer3[1].conv1, 'weight'),\n",
    "        (model.layer3[1].conv2, 'weight'),\n",
    "        (model.layer4[0].conv1, 'weight'),\n",
    "        (model.layer4[0].conv2, 'weight'),\n",
    "        (model.layer4[1].conv1, 'weight'),\n",
    "        (model.layer4[1].conv2, 'weight'),\n",
    "        (model.fc, 'weight'),\n",
    "    )\n",
    "    return parameters_to_prune"
   ]
  },
  {
   "cell_type": "code",
   "execution_count": 10,
   "id": "911675da",
   "metadata": {},
   "outputs": [],
   "source": [
    "def pruneModel(model, parameters_to_prune, ratio, printStats=True):\n",
    "    prune.global_unstructured(\n",
    "        parameters_to_prune,\n",
    "        pruning_method=prune.L1Unstructured,\n",
    "        amount=ratio,\n",
    "    )\n",
    "    \n",
    "    if not printStats:\n",
    "        return\n",
    "    \n",
    "    print(\n",
    "        \"Sparsity in conv1.weight: {:.2f}%\".format(\n",
    "            100. * float(torch.sum(model.conv1.weight == 0))\n",
    "            / float(model.conv1.weight.nelement())\n",
    "        )\n",
    "    )\n",
    "    print(\n",
    "        \"Sparsity in layer1[0].conv1.weight: {:.2f}%\".format(\n",
    "            100. * float(torch.sum(model.layer1[0].conv1.weight == 0))\n",
    "            / float(model.layer1[0].conv1.weight.nelement())\n",
    "        )\n",
    "    )\n",
    "    print(\n",
    "        \"Sparsity in layer1[0].conv2.weight: {:.2f}%\".format(\n",
    "            100. * float(torch.sum(model.layer1[0].conv2.weight == 0))\n",
    "            / float(model.layer1[0].conv2.weight.nelement())\n",
    "        )\n",
    "    )\n",
    "    print(\n",
    "        \"Sparsity in layer1[1].conv1.weight: {:.2f}%\".format(\n",
    "            100. * float(torch.sum(model.layer1[1].conv1.weight == 0))\n",
    "            / float(model.layer1[1].conv1.weight.nelement())\n",
    "        )\n",
    "    )\n",
    "    print(\n",
    "        \"Sparsity in layer1[1].conv2.weight: {:.2f}%\".format(\n",
    "            100. * float(torch.sum(model.layer1[1].conv2.weight == 0))\n",
    "            / float(model.layer1[1].conv2.weight.nelement())\n",
    "        )\n",
    "    )\n",
    "    print(\n",
    "        \"Sparsity in layer2[0].conv1.weight: {:.2f}%\".format(\n",
    "            100. * float(torch.sum(model.layer2[0].conv1.weight == 0))\n",
    "            / float(model.layer2[0].conv1.weight.nelement())\n",
    "        )\n",
    "    )\n",
    "    print(\n",
    "        \"Sparsity in layer2[0].conv2.weight: {:.2f}%\".format(\n",
    "            100. * float(torch.sum(model.layer2[0].conv2.weight == 0))\n",
    "            / float(model.layer2[0].conv2.weight.nelement())\n",
    "        )\n",
    "    )\n",
    "    print(\n",
    "        \"Sparsity in layer2[1].conv1.weight: {:.2f}%\".format(\n",
    "            100. * float(torch.sum(model.layer2[1].conv1.weight == 0))\n",
    "            / float(model.layer2[1].conv1.weight.nelement())\n",
    "        )\n",
    "    )\n",
    "    print(\n",
    "        \"Sparsity in layer2[1].conv2.weight: {:.2f}%\".format(\n",
    "            100. * float(torch.sum(model.layer2[1].conv2.weight == 0))\n",
    "            / float(model.layer2[1].conv2.weight.nelement())\n",
    "        )\n",
    "    )\n",
    "    print(\n",
    "        \"Sparsity in layer3[0].conv1.weight: {:.2f}%\".format(\n",
    "            100. * float(torch.sum(model.layer3[0].conv1.weight == 0))\n",
    "            / float(model.layer3[0].conv1.weight.nelement())\n",
    "        )\n",
    "    )\n",
    "    print(\n",
    "        \"Sparsity in layer3[0].conv2.weight: {:.2f}%\".format(\n",
    "            100. * float(torch.sum(model.layer3[0].conv2.weight == 0))\n",
    "            / float(model.layer3[0].conv2.weight.nelement())\n",
    "        )\n",
    "    )\n",
    "    print(\n",
    "        \"Sparsity in layer3[1].conv1.weight: {:.2f}%\".format(\n",
    "            100. * float(torch.sum(model.layer3[1].conv1.weight == 0))\n",
    "            / float(model.layer3[1].conv1.weight.nelement())\n",
    "        )\n",
    "    )\n",
    "    print(\n",
    "        \"Sparsity in layer3[1].conv2.weight: {:.2f}%\".format(\n",
    "            100. * float(torch.sum(model.layer3[1].conv2.weight == 0))\n",
    "            / float(model.layer3[1].conv2.weight.nelement())\n",
    "        )\n",
    "    )\n",
    "    print(\n",
    "        \"Sparsity in layer4[0].conv1.weight: {:.2f}%\".format(\n",
    "            100. * float(torch.sum(model.layer4[0].conv1.weight == 0))\n",
    "            / float(model.layer4[0].conv1.weight.nelement())\n",
    "        )\n",
    "    )\n",
    "    print(\n",
    "        \"Sparsity in layer4[0].conv2.weight: {:.2f}%\".format(\n",
    "            100. * float(torch.sum(model.layer4[0].conv2.weight == 0))\n",
    "            / float(model.layer4[0].conv2.weight.nelement())\n",
    "        )\n",
    "    )\n",
    "    print(\n",
    "        \"Sparsity in layer4[1].conv1.weight: {:.2f}%\".format(\n",
    "            100. * float(torch.sum(model.layer4[1].conv1.weight == 0))\n",
    "            / float(model.layer4[1].conv1.weight.nelement())\n",
    "        )\n",
    "    )\n",
    "    print(\n",
    "        \"Sparsity in layer4[1].conv2.weight: {:.2f}%\".format(\n",
    "            100. * float(torch.sum(model.layer4[1].conv2.weight == 0))\n",
    "            / float(model.layer4[1].conv2.weight.nelement())\n",
    "        )\n",
    "    )\n",
    "    print(\n",
    "        \"Sparsity in fc1.weight: {:.2f}%\".format(\n",
    "            100. * float(torch.sum(model.fc.weight == 0))\n",
    "            / float(model.fc.weight.nelement())\n",
    "        )\n",
    "    )\n",
    "\n",
    "    print(\n",
    "        \"Global sparsity: {:.2f}%\".format(\n",
    "            100. * float(\n",
    "                torch.sum(model.conv1.weight == 0)\n",
    "                + torch.sum(model.layer1[0].conv1.weight == 0)\n",
    "                + torch.sum(model.layer1[0].conv2.weight == 0)\n",
    "                + torch.sum(model.layer1[1].conv1.weight == 0)\n",
    "                + torch.sum(model.layer1[1].conv2.weight == 0)\n",
    "                + torch.sum(model.layer2[0].conv1.weight == 0)\n",
    "                + torch.sum(model.layer2[0].conv2.weight == 0)\n",
    "                + torch.sum(model.layer2[1].conv1.weight == 0)\n",
    "                + torch.sum(model.layer2[1].conv2.weight == 0)\n",
    "                + torch.sum(model.layer3[0].conv1.weight == 0)\n",
    "                + torch.sum(model.layer3[0].conv2.weight == 0)\n",
    "                + torch.sum(model.layer3[1].conv1.weight == 0)\n",
    "                + torch.sum(model.layer3[1].conv2.weight == 0)\n",
    "                + torch.sum(model.layer4[0].conv1.weight == 0)\n",
    "                + torch.sum(model.layer4[0].conv2.weight == 0)\n",
    "                + torch.sum(model.layer4[1].conv1.weight == 0)\n",
    "                + torch.sum(model.layer4[1].conv2.weight == 0)\n",
    "                + torch.sum(model.fc.weight == 0)\n",
    "            )\n",
    "            / float(\n",
    "                model.conv1.weight.nelement()\n",
    "                + model.layer1[0].conv1.weight.nelement()\n",
    "                + model.layer1[0].conv2.weight.nelement()\n",
    "                + model.layer1[1].conv1.weight.nelement()\n",
    "                + model.layer1[1].conv2.weight.nelement()\n",
    "                + model.layer2[0].conv1.weight.nelement()\n",
    "                + model.layer2[0].conv2.weight.nelement()\n",
    "                + model.layer2[1].conv1.weight.nelement()\n",
    "                + model.layer2[1].conv2.weight.nelement()\n",
    "                + model.layer3[0].conv1.weight.nelement()\n",
    "                + model.layer3[0].conv2.weight.nelement()\n",
    "                + model.layer3[1].conv1.weight.nelement()\n",
    "                + model.layer3[1].conv2.weight.nelement()\n",
    "                + model.layer4[0].conv1.weight.nelement()\n",
    "                + model.layer4[0].conv2.weight.nelement()\n",
    "                + model.layer4[1].conv1.weight.nelement()\n",
    "                + model.layer4[1].conv2.weight.nelement()\n",
    "                + model.fc.weight.nelement()\n",
    "            )\n",
    "        )\n",
    "    )"
   ]
  },
  {
   "cell_type": "code",
   "execution_count": 15,
   "id": "c89f0db4",
   "metadata": {},
   "outputs": [],
   "source": [
    "def setPruningPermanent(model, modules):\n",
    "    for module, w in modules:\n",
    "        prune.remove(module, 'weight')"
   ]
  },
  {
   "cell_type": "markdown",
   "id": "0cfbede0",
   "metadata": {},
   "source": [
    "# Re-evaluate the model after pruning"
   ]
  },
  {
   "cell_type": "code",
   "execution_count": 16,
   "id": "a5ca9923",
   "metadata": {},
   "outputs": [
    {
     "name": "stdout",
     "output_type": "stream",
     "text": [
      "Ratio:  0.05\n",
      "Model1: lr=  0.001\n",
      "Accuracy of the model on the test images: 90.84 %\n",
      "Inference:  (0.04554151123000001, 0.007384506765080374)\n",
      "Model2: lr=  0.01\n",
      "Accuracy of the model on the test images: 90.44 %\n",
      "Inference:  (0.045861150069999995, 0.005755680796214182)\n",
      "Ratio:  0.1\n",
      "Model1: lr=  0.001\n",
      "Accuracy of the model on the test images: 90.78 %\n",
      "Inference:  (0.04577782358999999, 0.0057789616452419874)\n",
      "Model2: lr=  0.01\n",
      "Accuracy of the model on the test images: 90.42 %\n",
      "Inference:  (0.045754017550000005, 0.006526924194281888)\n",
      "Ratio:  0.15000000000000002\n",
      "Model1: lr=  0.001\n",
      "Accuracy of the model on the test images: 90.73 %\n",
      "Inference:  (0.05521959469000001, 0.011002556970250215)\n",
      "Model2: lr=  0.01\n",
      "Accuracy of the model on the test images: 90.42 %\n",
      "Inference:  (0.04616189984999999, 0.006080496278343344)\n",
      "Ratio:  0.2\n",
      "Model1: lr=  0.001\n",
      "Accuracy of the model on the test images: 90.03 %\n",
      "Inference:  (0.045945243729999995, 0.0055283602325883014)\n",
      "Model2: lr=  0.01\n",
      "Accuracy of the model on the test images: 90.35 %\n",
      "Inference:  (0.04887124139000001, 0.00928443317299697)\n",
      "Ratio:  0.25\n",
      "Model1: lr=  0.001\n",
      "Accuracy of the model on the test images: 90.39 %\n",
      "Inference:  (0.046304970140000005, 0.006600328774547579)\n",
      "Model2: lr=  0.01\n",
      "Accuracy of the model on the test images: 90.39 %\n",
      "Inference:  (0.04604583015, 0.005449411367992913)\n",
      "Ratio:  0.3\n",
      "Model1: lr=  0.001\n",
      "Accuracy of the model on the test images: 89.93 %\n",
      "Inference:  (0.04659073082999999, 0.005579145651886932)\n",
      "Model2: lr=  0.01\n",
      "Accuracy of the model on the test images: 90.37 %\n",
      "Inference:  (0.04607287980000001, 0.006174420436975155)\n",
      "Ratio:  0.35000000000000003\n",
      "Model1: lr=  0.001\n",
      "Accuracy of the model on the test images: 86.48 %\n",
      "Inference:  (0.048390788430000005, 0.008713356985104307)\n",
      "Model2: lr=  0.01\n",
      "Accuracy of the model on the test images: 90.37 %\n",
      "Inference:  (0.0477265126, 0.008180478658571754)\n",
      "Ratio:  0.4\n",
      "Model1: lr=  0.001\n",
      "Accuracy of the model on the test images: 88.08 %\n",
      "Inference:  (0.04614175802999999, 0.006075484644914598)\n",
      "Model2: lr=  0.01\n",
      "Accuracy of the model on the test images: 90.42 %\n",
      "Inference:  (0.045971994190000004, 0.0055054873299639736)\n",
      "Ratio:  0.45\n",
      "Model1: lr=  0.001\n",
      "Accuracy of the model on the test images: 83.88 %\n",
      "Inference:  (0.04705081437000001, 0.005782241986413968)\n",
      "Model2: lr=  0.01\n",
      "Accuracy of the model on the test images: 90.21 %\n",
      "Inference:  (0.046091781650000004, 0.005379500406533488)\n",
      "Ratio:  0.5\n",
      "Model1: lr=  0.001\n",
      "Accuracy of the model on the test images: 86.09 %\n",
      "Inference:  (0.046430388959999985, 0.004917885952150265)\n",
      "Model2: lr=  0.01\n",
      "Accuracy of the model on the test images: 90.21 %\n",
      "Inference:  (0.04661495162, 0.0059480242429424575)\n",
      "Ratio:  0.55\n",
      "Model1: lr=  0.001\n",
      "Accuracy of the model on the test images: 76.74 %\n",
      "Inference:  (0.04650963248, 0.004806126659422881)\n",
      "Model2: lr=  0.01\n",
      "Accuracy of the model on the test images: 89.0 %\n",
      "Inference:  (0.04654957982, 0.005657941815850322)\n",
      "Ratio:  0.6000000000000001\n",
      "Model1: lr=  0.001\n",
      "Accuracy of the model on the test images: 64.37 %\n",
      "Inference:  (0.04583252272000001, 0.005818148180734843)\n",
      "Model2: lr=  0.01\n",
      "Accuracy of the model on the test images: 88.39 %\n",
      "Inference:  (0.04703230597, 0.003964585503272377)\n",
      "Ratio:  0.6500000000000001\n",
      "Model1: lr=  0.001\n",
      "Accuracy of the model on the test images: 39.85 %\n",
      "Inference:  (0.04574792446, 0.0071721721515402214)\n",
      "Model2: lr=  0.01\n",
      "Accuracy of the model on the test images: 84.38 %\n",
      "Inference:  (0.04605883584999999, 0.0061860454492905495)\n",
      "Ratio:  0.7000000000000001\n",
      "Model1: lr=  0.001\n",
      "Accuracy of the model on the test images: 32.69 %\n",
      "Inference:  (0.04594751767, 0.0055406951624510335)\n",
      "Model2: lr=  0.01\n",
      "Accuracy of the model on the test images: 82.86 %\n",
      "Inference:  (0.046076724480000004, 0.006899393232615434)\n",
      "Ratio:  0.7500000000000001\n",
      "Model1: lr=  0.001\n",
      "Accuracy of the model on the test images: 25.22 %\n",
      "Inference:  (0.045866707799999996, 0.005756755610504383)\n",
      "Model2: lr=  0.01\n",
      "Accuracy of the model on the test images: 75.68 %\n",
      "Inference:  (0.04531228640999999, 0.006104328765430513)\n",
      "Ratio:  0.8\n",
      "Model1: lr=  0.001\n",
      "Accuracy of the model on the test images: 16.36 %\n",
      "Inference:  (0.04631744491, 0.006412104795228143)\n",
      "Model2: lr=  0.01\n",
      "Accuracy of the model on the test images: 65.41 %\n",
      "Inference:  (0.04559739117, 0.005933742264019867)\n"
     ]
    }
   ],
   "source": [
    "prune_ratios = np.arange(0.05, 0.85, 0.05)\n",
    "for i in prune_ratios:\n",
    "    print(\"Ratio: \", i)\n",
    "    print(\"Model1: lr= \", 0.001)\n",
    "    model = loadModel(\"resnet_lr0.001.pth\")\n",
    "    parameters_to_prune = getParams(model)\n",
    "    pruneModel(model, parameters_to_prune, i, printStats=False)\n",
    "    setPruningPermanent(model, parameters_to_prune)\n",
    "    testModel(model, test_loader)\n",
    "    model = model.to(\"cpu\")\n",
    "    mean, stdev = getInference(sample_image, model, 100)\n",
    "    print(\"Inference: \", (mean, stdev))\n",
    "    \n",
    "    print(\"Model2: lr= \", 0.01)\n",
    "    model = loadModel(\"resnet_lr0.01.pth\")\n",
    "    parameters_to_prune = getParams(model)\n",
    "    pruneModel(model, parameters_to_prune, i, printStats=False)\n",
    "    setPruningPermanent(model, parameters_to_prune)\n",
    "    testModel(model, test_loader)\n",
    "    model = model.to(\"cpu\")\n",
    "    mean, stdev = getInference(sample_image, model, 100)\n",
    "    print(\"Inference: \", (mean, stdev))"
   ]
  },
  {
   "cell_type": "code",
   "execution_count": 20,
   "id": "52085546",
   "metadata": {},
   "outputs": [
    {
     "data": {
      "text/plain": [
       "tensor([[[[-0.4249,  0.2550, -0.0000],\n",
       "          [ 0.6017,  1.8117,  1.1083],\n",
       "          [-0.0000,  1.4855,  1.5301]],\n",
       "\n",
       "         [[-0.5792,  0.4112,  2.8071],\n",
       "          [ 0.4502,  0.2385,  1.4300],\n",
       "          [ 0.8258,  0.4430,  1.0861]],\n",
       "\n",
       "         [[ 0.2909,  0.0000, -0.0000],\n",
       "          [ 0.0000,  0.2227,  0.0000],\n",
       "          [-0.0000,  0.0000, -0.1957]],\n",
       "\n",
       "         ...,\n",
       "\n",
       "         [[ 0.0000,  0.1557,  0.2102],\n",
       "          [ 0.1737,  0.2955, -0.1892],\n",
       "          [-0.2364,  0.0000, -0.1832]],\n",
       "\n",
       "         [[-0.7010, -1.1919,  1.0778],\n",
       "          [-0.1431, -1.3694, -0.9160],\n",
       "          [ 0.3771, -0.1808, -0.6137]],\n",
       "\n",
       "         [[-0.5214, -2.2948, -0.3137],\n",
       "          [-0.4003, -5.5395, -2.8928],\n",
       "          [ 0.7913, -1.9342, -0.7764]]],\n",
       "\n",
       "\n",
       "        [[[ 0.6393,  0.3993,  0.9330],\n",
       "          [-0.2474, -0.8675, -0.6761],\n",
       "          [ 0.2971, -0.2367,  0.2297]],\n",
       "\n",
       "         [[-0.9551, -0.4279,  0.0000],\n",
       "          [-1.3315, -1.5427, -0.9220],\n",
       "          [-0.3729, -1.0323, -0.4277]],\n",
       "\n",
       "         [[ 0.4903,  0.2804,  0.0000],\n",
       "          [ 0.3551,  0.0000, -0.0000],\n",
       "          [ 0.5458,  0.4366,  0.3969]],\n",
       "\n",
       "         ...,\n",
       "\n",
       "         [[-1.2165, -2.2052, -1.6343],\n",
       "          [-1.3552, -2.4586, -2.3180],\n",
       "          [-0.5396, -1.3159, -0.8451]],\n",
       "\n",
       "         [[ 0.1940,  0.8169,  0.6224],\n",
       "          [-0.0000,  0.4935,  0.8222],\n",
       "          [-0.1974,  0.4382,  0.5616]],\n",
       "\n",
       "         [[-0.4615,  0.0000,  0.6366],\n",
       "          [ 0.1801,  0.3970,  0.9194],\n",
       "          [ 0.7524,  1.0115,  1.7676]]],\n",
       "\n",
       "\n",
       "        [[[-1.2387, -0.0000, -0.7236],\n",
       "          [-1.2975, -0.4656, -0.7526],\n",
       "          [-0.1715,  0.2635,  0.3605]],\n",
       "\n",
       "         [[-0.3422, -0.0000, -0.3344],\n",
       "          [-0.8189, -0.2162, -0.8874],\n",
       "          [-0.4183,  0.2884, -1.1116]],\n",
       "\n",
       "         [[-0.6954, -1.0262, -0.3525],\n",
       "          [-0.6116, -0.6251, -0.2969],\n",
       "          [ 0.3009,  0.0000,  0.1569]],\n",
       "\n",
       "         ...,\n",
       "\n",
       "         [[-0.3441, -0.2225, -0.5896],\n",
       "          [ 0.0000,  0.3497, -0.3030],\n",
       "          [ 0.8299,  0.9983, -0.3219]],\n",
       "\n",
       "         [[-0.7518,  0.2633, -0.8613],\n",
       "          [-0.6486,  1.5386,  0.0000],\n",
       "          [-0.3923,  2.2504,  0.1907]],\n",
       "\n",
       "         [[ 0.7173,  0.9507,  1.7372],\n",
       "          [-0.3548,  0.4665,  1.7909],\n",
       "          [ 0.5666,  1.3885,  1.0155]]],\n",
       "\n",
       "\n",
       "        ...,\n",
       "\n",
       "\n",
       "        [[[ 0.7579,  0.2041,  0.9389],\n",
       "          [-0.1785, -0.4658,  0.3528],\n",
       "          [-0.1820, -0.4194,  0.4332]],\n",
       "\n",
       "         [[ 0.2669,  0.4332,  0.5078],\n",
       "          [ 1.1471,  0.9132,  1.1417],\n",
       "          [ 0.9300,  0.8514,  0.6286]],\n",
       "\n",
       "         [[ 0.0000,  0.0000,  0.0000],\n",
       "          [ 0.2096, -0.1617, -0.0000],\n",
       "          [ 0.5595,  0.2120,  0.0000]],\n",
       "\n",
       "         ...,\n",
       "\n",
       "         [[-0.2280, -0.0000,  0.0000],\n",
       "          [-0.3404, -0.4859, -0.1946],\n",
       "          [-0.0000,  0.1511,  0.2648]],\n",
       "\n",
       "         [[-0.4583, -0.8709,  0.1875],\n",
       "          [-3.2976, -6.0115, -0.6336],\n",
       "          [-0.6355, -1.3305,  0.5164]],\n",
       "\n",
       "         [[-0.0000,  0.0000, -0.0000],\n",
       "          [-1.1405, -1.7845, -0.4362],\n",
       "          [-0.6235,  0.0000,  1.0653]]],\n",
       "\n",
       "\n",
       "        [[[-1.0314, -1.8824, -0.9009],\n",
       "          [-1.5608, -1.9635, -1.2212],\n",
       "          [-0.5359, -1.3345, -0.5297]],\n",
       "\n",
       "         [[ 0.4883,  0.4113, -0.2799],\n",
       "          [ 0.9527,  0.8519,  0.4913],\n",
       "          [ 1.7127,  1.3840,  0.7922]],\n",
       "\n",
       "         [[-0.4749, -0.2407, -0.0000],\n",
       "          [-0.4841, -0.2452, -0.1556],\n",
       "          [-0.2930, -0.1616, -0.1978]],\n",
       "\n",
       "         ...,\n",
       "\n",
       "         [[ 0.3842,  0.4498,  0.5978],\n",
       "          [ 0.0000,  0.4452,  0.1827],\n",
       "          [-0.5885, -0.0000, -0.0000]],\n",
       "\n",
       "         [[-0.6183, -0.3175, -0.9754],\n",
       "          [ 0.2657,  0.2870, -0.0000],\n",
       "          [ 0.9580,  0.9222,  0.3097]],\n",
       "\n",
       "         [[ 0.0000, -0.4148, -0.4122],\n",
       "          [-0.8907, -1.8260, -1.3525],\n",
       "          [-0.2178, -0.6610,  0.0000]]],\n",
       "\n",
       "\n",
       "        [[[-0.7710, -0.9169, -0.9173],\n",
       "          [-0.3522, -0.6406, -0.7361],\n",
       "          [-0.0000, -0.0000, -0.0000]],\n",
       "\n",
       "         [[-0.6069, -0.2192, -0.2294],\n",
       "          [-0.8407,  0.0000, -0.0000],\n",
       "          [-1.0130, -0.0000, -0.0000]],\n",
       "\n",
       "         [[ 0.0000,  0.0000, -0.0000],\n",
       "          [ 0.4276,  0.3119,  0.2043],\n",
       "          [-0.0000, -0.2334, -0.0000]],\n",
       "\n",
       "         ...,\n",
       "\n",
       "         [[-0.6143, -0.3196, -0.5304],\n",
       "          [ 0.3293,  0.6300, -0.0000],\n",
       "          [ 0.7903,  1.0241,  0.5325]],\n",
       "\n",
       "         [[-0.4743,  0.4699,  0.5315],\n",
       "          [-0.8731, -0.4005, -0.5167],\n",
       "          [-0.5551, -1.1237, -0.8593]],\n",
       "\n",
       "         [[-0.0000,  0.4860,  1.2185],\n",
       "          [-0.8925,  0.6821,  0.8861],\n",
       "          [-0.7637, -0.4685, -0.7814]]]], device='cuda:0')"
      ]
     },
     "execution_count": 20,
     "metadata": {},
     "output_type": "execute_result"
    }
   ],
   "source": [
    "model.layer1[0].conv1.weight"
   ]
  },
  {
   "cell_type": "code",
   "execution_count": null,
   "id": "796f7e73",
   "metadata": {},
   "outputs": [],
   "source": []
  }
 ],
 "metadata": {
  "kernelspec": {
   "display_name": "Python 3 (ipykernel)",
   "language": "python",
   "name": "python3"
  },
  "language_info": {
   "codemirror_mode": {
    "name": "ipython",
    "version": 3
   },
   "file_extension": ".py",
   "mimetype": "text/x-python",
   "name": "python",
   "nbconvert_exporter": "python",
   "pygments_lexer": "ipython3",
   "version": "3.9.7"
  }
 },
 "nbformat": 4,
 "nbformat_minor": 5
}
